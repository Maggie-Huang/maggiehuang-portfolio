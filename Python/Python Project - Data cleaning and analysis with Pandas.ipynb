{
 "cells": [
  {
   "cell_type": "code",
   "execution_count": 1,
   "id": "e578e237-3cd0-4600-bc75-fc19bfd5ca51",
   "metadata": {},
   "outputs": [],
   "source": [
    "# import necessary libraries\n",
    "from googleapiclient.discovery import build\n",
    "import re\n",
    "import numpy as np\n",
    "import pandas as pd\n",
    "import matplotlib.pyplot as plt\n",
    "import matplotlib.dates as mdates\n",
    "from matplotlib.ticker import MultipleLocator"
   ]
  },
  {
   "cell_type": "markdown",
   "id": "93670454-ed7a-4b9d-80fb-d4d91328160f",
   "metadata": {},
   "source": [
    "# Data Cleaning & Formatting"
   ]
  },
  {
   "cell_type": "code",
   "execution_count": 2,
   "id": "aed54c6e-1066-43f0-a669-080b3db7dc9f",
   "metadata": {},
   "outputs": [],
   "source": [
    "# read in csv files to DataFrames\n",
    "df1 = pd.read_csv('AmazingTalker.csv')\n",
    "df2 = pd.read_csv('AmazingTalkerShow.csv')"
   ]
  },
  {
   "cell_type": "code",
   "execution_count": 3,
   "id": "522a0530-2cba-4a95-91e3-fa80f84af97c",
   "metadata": {},
   "outputs": [
    {
     "name": "stdout",
     "output_type": "stream",
     "text": [
      "<class 'pandas.core.frame.DataFrame'>\n",
      "RangeIndex: 1357 entries, 0 to 1356\n",
      "Data columns (total 15 columns):\n",
      " #   Column                  Non-Null Count  Dtype \n",
      "---  ------                  --------------  ----- \n",
      " 0   ID                      1357 non-null   object\n",
      " 1   Title                   1357 non-null   object\n",
      " 2   Published At            1357 non-null   object\n",
      " 3   Category                1357 non-null   int64 \n",
      " 4   Default Audio Language  1203 non-null   object\n",
      " 5   Duration                1357 non-null   object\n",
      " 6   Definition              1357 non-null   object\n",
      " 7   Caption                 1357 non-null   bool  \n",
      " 8   Licensed                1357 non-null   bool  \n",
      " 9   Views                   1357 non-null   int64 \n",
      " 10  Likes                   1357 non-null   int64 \n",
      " 11  Dislikes                1357 non-null   int64 \n",
      " 12  Favorites               1357 non-null   int64 \n",
      " 13  Comments                1357 non-null   int64 \n",
      " 14  Description             1057 non-null   object\n",
      "dtypes: bool(2), int64(6), object(7)\n",
      "memory usage: 140.6+ KB\n"
     ]
    }
   ],
   "source": [
    "df1.info()"
   ]
  },
  {
   "cell_type": "code",
   "execution_count": 4,
   "id": "4243d85c-12ce-4e39-bb80-525a28d8fe98",
   "metadata": {},
   "outputs": [
    {
     "data": {
      "text/html": [
       "<div>\n",
       "<style scoped>\n",
       "    .dataframe tbody tr th:only-of-type {\n",
       "        vertical-align: middle;\n",
       "    }\n",
       "\n",
       "    .dataframe tbody tr th {\n",
       "        vertical-align: top;\n",
       "    }\n",
       "\n",
       "    .dataframe thead th {\n",
       "        text-align: right;\n",
       "    }\n",
       "</style>\n",
       "<table border=\"1\" class=\"dataframe\">\n",
       "  <thead>\n",
       "    <tr style=\"text-align: right;\">\n",
       "      <th></th>\n",
       "      <th>ID</th>\n",
       "      <th>Title</th>\n",
       "      <th>Published At</th>\n",
       "      <th>Category</th>\n",
       "      <th>Default Audio Language</th>\n",
       "      <th>Duration</th>\n",
       "      <th>Definition</th>\n",
       "      <th>Caption</th>\n",
       "      <th>Licensed</th>\n",
       "      <th>Views</th>\n",
       "      <th>Likes</th>\n",
       "      <th>Dislikes</th>\n",
       "      <th>Favorites</th>\n",
       "      <th>Comments</th>\n",
       "      <th>Description</th>\n",
       "    </tr>\n",
       "  </thead>\n",
       "  <tbody>\n",
       "    <tr>\n",
       "      <th>0</th>\n",
       "      <td>znLBKPOPYWU</td>\n",
       "      <td>你不知道的奧運真相：辦奧運辦到破產！禁藥、賄賂樣樣來⋯⋯我們曾以「台灣」名義出賽奧運？｜驚奇...</td>\n",
       "      <td>2024-07-26T12:01:09Z</td>\n",
       "      <td>27</td>\n",
       "      <td>zh-TW</td>\n",
       "      <td>PT16M53S</td>\n",
       "      <td>hd</td>\n",
       "      <td>False</td>\n",
       "      <td>True</td>\n",
       "      <td>303</td>\n",
       "      <td>23</td>\n",
       "      <td>0</td>\n",
       "      <td>0</td>\n",
       "      <td>0</td>\n",
       "      <td>2024巴黎奧運再幾個小時就要開幕！每四年舉辦一次的奧林匹克運動會，是全球體育的巔峰盛事，大...</td>\n",
       "    </tr>\n",
       "    <tr>\n",
       "      <th>1</th>\n",
       "      <td>vPxH9PoegPc</td>\n",
       "      <td>🔍 YouTube搜尋 #驚奇說 ！正片馬上看！#奧運 #歷史 #台灣#AmazingTal...</td>\n",
       "      <td>2024-07-26T12:01:04Z</td>\n",
       "      <td>27</td>\n",
       "      <td>zh-TW</td>\n",
       "      <td>PT30S</td>\n",
       "      <td>hd</td>\n",
       "      <td>False</td>\n",
       "      <td>True</td>\n",
       "      <td>20</td>\n",
       "      <td>2</td>\n",
       "      <td>0</td>\n",
       "      <td>0</td>\n",
       "      <td>1</td>\n",
       "      <td>NaN</td>\n",
       "    </tr>\n",
       "  </tbody>\n",
       "</table>\n",
       "</div>"
      ],
      "text/plain": [
       "            ID                                              Title  \\\n",
       "0  znLBKPOPYWU  你不知道的奧運真相：辦奧運辦到破產！禁藥、賄賂樣樣來⋯⋯我們曾以「台灣」名義出賽奧運？｜驚奇...   \n",
       "1  vPxH9PoegPc  🔍 YouTube搜尋 #驚奇說 ！正片馬上看！#奧運 #歷史 #台灣#AmazingTal...   \n",
       "\n",
       "           Published At  Category Default Audio Language  Duration Definition  \\\n",
       "0  2024-07-26T12:01:09Z        27                  zh-TW  PT16M53S         hd   \n",
       "1  2024-07-26T12:01:04Z        27                  zh-TW     PT30S         hd   \n",
       "\n",
       "   Caption  Licensed  Views  Likes  Dislikes  Favorites  Comments  \\\n",
       "0    False      True    303     23         0          0         0   \n",
       "1    False      True     20      2         0          0         1   \n",
       "\n",
       "                                         Description  \n",
       "0  2024巴黎奧運再幾個小時就要開幕！每四年舉辦一次的奧林匹克運動會，是全球體育的巔峰盛事，大...  \n",
       "1                                                NaN  "
      ]
     },
     "execution_count": 4,
     "metadata": {},
     "output_type": "execute_result"
    }
   ],
   "source": [
    "df1.head(2)"
   ]
  },
  {
   "cell_type": "markdown",
   "id": "5282764a-d4b7-4850-8e84-44357cc8e74a",
   "metadata": {},
   "source": [
    "_Columns to be modified : 'Published At' (convert to Taipei time), 'Category' (object), 'Duration' (int)_"
   ]
  },
  {
   "cell_type": "markdown",
   "id": "2761f150-cece-461c-ae2a-ee2fcd68d76a",
   "metadata": {},
   "source": [
    "## 1. Format 'Published At' to Taipei datetime"
   ]
  },
  {
   "cell_type": "code",
   "execution_count": 5,
   "id": "3f6786db-262e-42b6-9974-11d2d0f7c044",
   "metadata": {},
   "outputs": [],
   "source": [
    "# create a function to convert Published At to Taipei datetime and store dates and times separately in new columns\n",
    "def convert_datetime(df):\n",
    "    \n",
    "    # convert to datetime object\n",
    "    df['Published At'] = pd.to_datetime(df['Published At'], format='%Y-%m-%dT%H:%M:%SZ', errors='coerce')\n",
    "\n",
    "    # convert UTC to Taipei time\n",
    "    df['Published At'] = df['Published At'].dt.tz_localize('UTC').dt.tz_convert('Asia/Taipei')\n",
    "\n",
    "convert_datetime(df1)\n",
    "convert_datetime(df2)"
   ]
  },
  {
   "cell_type": "code",
   "execution_count": 6,
   "id": "72ea343d-9a56-43f6-ae33-1b08f7d655ba",
   "metadata": {
    "scrolled": true
   },
   "outputs": [
    {
     "data": {
      "text/html": [
       "<div>\n",
       "<style scoped>\n",
       "    .dataframe tbody tr th:only-of-type {\n",
       "        vertical-align: middle;\n",
       "    }\n",
       "\n",
       "    .dataframe tbody tr th {\n",
       "        vertical-align: top;\n",
       "    }\n",
       "\n",
       "    .dataframe thead th {\n",
       "        text-align: right;\n",
       "    }\n",
       "</style>\n",
       "<table border=\"1\" class=\"dataframe\">\n",
       "  <thead>\n",
       "    <tr style=\"text-align: right;\">\n",
       "      <th></th>\n",
       "      <th>Published At</th>\n",
       "    </tr>\n",
       "  </thead>\n",
       "  <tbody>\n",
       "    <tr>\n",
       "      <th>0</th>\n",
       "      <td>2024-07-26 20:01:09+08:00</td>\n",
       "    </tr>\n",
       "    <tr>\n",
       "      <th>1</th>\n",
       "      <td>2024-07-26 20:01:04+08:00</td>\n",
       "    </tr>\n",
       "  </tbody>\n",
       "</table>\n",
       "</div>"
      ],
      "text/plain": [
       "               Published At\n",
       "0 2024-07-26 20:01:09+08:00\n",
       "1 2024-07-26 20:01:04+08:00"
      ]
     },
     "execution_count": 6,
     "metadata": {},
     "output_type": "execute_result"
    }
   ],
   "source": [
    "df1[['Published At']].head(2)"
   ]
  },
  {
   "cell_type": "markdown",
   "id": "901a9af4-fc46-4f09-be41-fbe11b155369",
   "metadata": {},
   "source": [
    "## 2. Replace 'Category' code with category name"
   ]
  },
  {
   "cell_type": "code",
   "execution_count": 7,
   "id": "845f5d15-2d16-4ef3-bf1e-a8cc786e918f",
   "metadata": {},
   "outputs": [],
   "source": [
    "# define API key and parameters for YouTube Data API\n",
    "api_key = 'API_KEY'\n",
    "youtube = build('youtube', 'v3', developerKey=api_key)  \n",
    "\n",
    "# define a function to replace Category numbers with corresponding category names\n",
    "def category_number_to_name(df):\n",
    "    \n",
    "    # define a dictionary category_list to store category ID and name pairs\n",
    "    category_dict = dict()\n",
    "    \n",
    "    # loop through unique category IDs in the DataFrame, retrieve category names through YouTube Data API, and add category ID and name pairs to the dictionary\n",
    "    for category_id in df['Category'].unique():\n",
    "        request = youtube.videoCategories().list(\n",
    "            part='snippet',\n",
    "            id=category_id\n",
    "        )\n",
    "        response_category = request.execute()\n",
    "    \n",
    "        category_dict[category_id] = response_category['items'][0]['snippet']['title']\n",
    "\n",
    "    # update Category values\n",
    "    df['Category'] = df['Category'].map(category_dict)\n",
    "\n",
    "category_number_to_name(df1)\n",
    "category_number_to_name(df2)"
   ]
  },
  {
   "cell_type": "code",
   "execution_count": 8,
   "id": "34198c5f-5879-4263-bb3f-98847659e278",
   "metadata": {},
   "outputs": [
    {
     "data": {
      "text/plain": [
       "Category\n",
       "Education         1234\n",
       "People & Blogs     123\n",
       "Name: count, dtype: int64"
      ]
     },
     "execution_count": 8,
     "metadata": {},
     "output_type": "execute_result"
    }
   ],
   "source": [
    "df1['Category'].value_counts()"
   ]
  },
  {
   "cell_type": "markdown",
   "id": "ca6f7e30-6f99-4b2a-b650-5e50fdac0a4b",
   "metadata": {},
   "source": [
    "## 3. Convert 'Duration' to seconds"
   ]
  },
  {
   "cell_type": "code",
   "execution_count": 9,
   "id": "b5c67734-2f32-4755-b3a5-d08278612877",
   "metadata": {},
   "outputs": [],
   "source": [
    "# define a function to convert hours in a duration string to seconds \n",
    "def durationHours_to_seconds(n):\n",
    "    try:\n",
    "        return int(re.search(r'([0-9]+)H', n).group(1)) * 3600\n",
    "    except AttributeError:\n",
    "        return 0\n",
    "\n",
    "# define a function to convert minutes in a duration string to seconds\n",
    "def durationMinutes_to_seconds(n):\n",
    "    try:\n",
    "        return int(re.search(r'([0-9]+)M', n).group(1)) * 60\n",
    "    except AttributeError:\n",
    "        return 0\n",
    "\n",
    "# define a function the extract the seconds from a duration string\n",
    "def durationSeconds(n):\n",
    "    try:\n",
    "        return int(re.search(r'([0-9]+)S', n).group(1))\n",
    "    except AttributeError:\n",
    "        return 0\n",
    "\n",
    "# define a function to convert a duration string to seconds\n",
    "def convert_duration_string_to_seconds(df):\n",
    "    df['Duration'] = df['Duration'].apply(lambda x: durationHours_to_seconds(x) + durationMinutes_to_seconds(x) + durationSeconds(x))\n",
    "\n",
    "convert_duration_string_to_seconds(df1)\n",
    "convert_duration_string_to_seconds(df2)"
   ]
  },
  {
   "cell_type": "code",
   "execution_count": 10,
   "id": "f1eff87c-9206-487c-8f91-53d85da41236",
   "metadata": {
    "scrolled": true
   },
   "outputs": [
    {
     "data": {
      "text/plain": [
       "0    1013\n",
       "1      30\n",
       "Name: Duration, dtype: int64"
      ]
     },
     "execution_count": 10,
     "metadata": {},
     "output_type": "execute_result"
    }
   ],
   "source": [
    "df1['Duration'].head(2)"
   ]
  },
  {
   "cell_type": "markdown",
   "id": "10dba364-64ba-434b-920d-767117791a9c",
   "metadata": {},
   "source": [
    "## 4. Create video 'URL' column"
   ]
  },
  {
   "cell_type": "code",
   "execution_count": 11,
   "id": "cc1259c7-e869-4c33-9bc6-32aeb374d9da",
   "metadata": {},
   "outputs": [],
   "source": [
    "# define a function to create URL from the ID column\n",
    "def create_url(df):\n",
    "    df['URL'] = 'https://www.youtube.com/watch?v=' + df['ID']\n",
    "\n",
    "create_url(df1)\n",
    "create_url(df2)"
   ]
  },
  {
   "cell_type": "code",
   "execution_count": 12,
   "id": "966c2409-9de8-4ec5-897f-19b4648f17c4",
   "metadata": {},
   "outputs": [
    {
     "data": {
      "text/html": [
       "<div>\n",
       "<style scoped>\n",
       "    .dataframe tbody tr th:only-of-type {\n",
       "        vertical-align: middle;\n",
       "    }\n",
       "\n",
       "    .dataframe tbody tr th {\n",
       "        vertical-align: top;\n",
       "    }\n",
       "\n",
       "    .dataframe thead th {\n",
       "        text-align: right;\n",
       "    }\n",
       "</style>\n",
       "<table border=\"1\" class=\"dataframe\">\n",
       "  <thead>\n",
       "    <tr style=\"text-align: right;\">\n",
       "      <th></th>\n",
       "      <th>ID</th>\n",
       "      <th>URL</th>\n",
       "    </tr>\n",
       "  </thead>\n",
       "  <tbody>\n",
       "    <tr>\n",
       "      <th>0</th>\n",
       "      <td>znLBKPOPYWU</td>\n",
       "      <td>https://www.youtube.com/watch?v=znLBKPOPYWU</td>\n",
       "    </tr>\n",
       "    <tr>\n",
       "      <th>1</th>\n",
       "      <td>vPxH9PoegPc</td>\n",
       "      <td>https://www.youtube.com/watch?v=vPxH9PoegPc</td>\n",
       "    </tr>\n",
       "  </tbody>\n",
       "</table>\n",
       "</div>"
      ],
      "text/plain": [
       "            ID                                          URL\n",
       "0  znLBKPOPYWU  https://www.youtube.com/watch?v=znLBKPOPYWU\n",
       "1  vPxH9PoegPc  https://www.youtube.com/watch?v=vPxH9PoegPc"
      ]
     },
     "execution_count": 12,
     "metadata": {},
     "output_type": "execute_result"
    }
   ],
   "source": [
    "df1[['ID', 'URL']].head(2)"
   ]
  },
  {
   "cell_type": "code",
   "execution_count": 13,
   "id": "0e756dcd-353f-4c33-9f4f-060d68fc8bb5",
   "metadata": {},
   "outputs": [
    {
     "name": "stdout",
     "output_type": "stream",
     "text": [
      "<class 'pandas.core.frame.DataFrame'>\n",
      "RangeIndex: 1357 entries, 0 to 1356\n",
      "Data columns (total 16 columns):\n",
      " #   Column                  Non-Null Count  Dtype                      \n",
      "---  ------                  --------------  -----                      \n",
      " 0   ID                      1357 non-null   object                     \n",
      " 1   Title                   1357 non-null   object                     \n",
      " 2   Published At            1357 non-null   datetime64[ns, Asia/Taipei]\n",
      " 3   Category                1357 non-null   object                     \n",
      " 4   Default Audio Language  1203 non-null   object                     \n",
      " 5   Duration                1357 non-null   int64                      \n",
      " 6   Definition              1357 non-null   object                     \n",
      " 7   Caption                 1357 non-null   bool                       \n",
      " 8   Licensed                1357 non-null   bool                       \n",
      " 9   Views                   1357 non-null   int64                      \n",
      " 10  Likes                   1357 non-null   int64                      \n",
      " 11  Dislikes                1357 non-null   int64                      \n",
      " 12  Favorites               1357 non-null   int64                      \n",
      " 13  Comments                1357 non-null   int64                      \n",
      " 14  Description             1057 non-null   object                     \n",
      " 15  URL                     1357 non-null   object                     \n",
      "dtypes: bool(2), datetime64[ns, Asia/Taipei](1), int64(6), object(7)\n",
      "memory usage: 151.2+ KB\n"
     ]
    }
   ],
   "source": [
    "df1.info()"
   ]
  },
  {
   "cell_type": "code",
   "execution_count": 14,
   "id": "93d9fc36-477d-4069-a02b-38c2ffabd39a",
   "metadata": {},
   "outputs": [
    {
     "data": {
      "text/html": [
       "<div>\n",
       "<style scoped>\n",
       "    .dataframe tbody tr th:only-of-type {\n",
       "        vertical-align: middle;\n",
       "    }\n",
       "\n",
       "    .dataframe tbody tr th {\n",
       "        vertical-align: top;\n",
       "    }\n",
       "\n",
       "    .dataframe thead th {\n",
       "        text-align: right;\n",
       "    }\n",
       "</style>\n",
       "<table border=\"1\" class=\"dataframe\">\n",
       "  <thead>\n",
       "    <tr style=\"text-align: right;\">\n",
       "      <th></th>\n",
       "      <th>ID</th>\n",
       "      <th>Title</th>\n",
       "      <th>Published At</th>\n",
       "      <th>Category</th>\n",
       "      <th>Default Audio Language</th>\n",
       "      <th>Duration</th>\n",
       "      <th>Definition</th>\n",
       "      <th>Caption</th>\n",
       "      <th>Licensed</th>\n",
       "      <th>Views</th>\n",
       "      <th>Likes</th>\n",
       "      <th>Dislikes</th>\n",
       "      <th>Favorites</th>\n",
       "      <th>Comments</th>\n",
       "      <th>Description</th>\n",
       "      <th>URL</th>\n",
       "    </tr>\n",
       "  </thead>\n",
       "  <tbody>\n",
       "    <tr>\n",
       "      <th>0</th>\n",
       "      <td>znLBKPOPYWU</td>\n",
       "      <td>你不知道的奧運真相：辦奧運辦到破產！禁藥、賄賂樣樣來⋯⋯我們曾以「台灣」名義出賽奧運？｜驚奇...</td>\n",
       "      <td>2024-07-26 20:01:09+08:00</td>\n",
       "      <td>Education</td>\n",
       "      <td>zh-TW</td>\n",
       "      <td>1013</td>\n",
       "      <td>hd</td>\n",
       "      <td>False</td>\n",
       "      <td>True</td>\n",
       "      <td>303</td>\n",
       "      <td>23</td>\n",
       "      <td>0</td>\n",
       "      <td>0</td>\n",
       "      <td>0</td>\n",
       "      <td>2024巴黎奧運再幾個小時就要開幕！每四年舉辦一次的奧林匹克運動會，是全球體育的巔峰盛事，大...</td>\n",
       "      <td>https://www.youtube.com/watch?v=znLBKPOPYWU</td>\n",
       "    </tr>\n",
       "    <tr>\n",
       "      <th>1</th>\n",
       "      <td>vPxH9PoegPc</td>\n",
       "      <td>🔍 YouTube搜尋 #驚奇說 ！正片馬上看！#奧運 #歷史 #台灣#AmazingTal...</td>\n",
       "      <td>2024-07-26 20:01:04+08:00</td>\n",
       "      <td>Education</td>\n",
       "      <td>zh-TW</td>\n",
       "      <td>30</td>\n",
       "      <td>hd</td>\n",
       "      <td>False</td>\n",
       "      <td>True</td>\n",
       "      <td>20</td>\n",
       "      <td>2</td>\n",
       "      <td>0</td>\n",
       "      <td>0</td>\n",
       "      <td>1</td>\n",
       "      <td>NaN</td>\n",
       "      <td>https://www.youtube.com/watch?v=vPxH9PoegPc</td>\n",
       "    </tr>\n",
       "  </tbody>\n",
       "</table>\n",
       "</div>"
      ],
      "text/plain": [
       "            ID                                              Title  \\\n",
       "0  znLBKPOPYWU  你不知道的奧運真相：辦奧運辦到破產！禁藥、賄賂樣樣來⋯⋯我們曾以「台灣」名義出賽奧運？｜驚奇...   \n",
       "1  vPxH9PoegPc  🔍 YouTube搜尋 #驚奇說 ！正片馬上看！#奧運 #歷史 #台灣#AmazingTal...   \n",
       "\n",
       "               Published At   Category Default Audio Language  Duration  \\\n",
       "0 2024-07-26 20:01:09+08:00  Education                  zh-TW      1013   \n",
       "1 2024-07-26 20:01:04+08:00  Education                  zh-TW        30   \n",
       "\n",
       "  Definition  Caption  Licensed  Views  Likes  Dislikes  Favorites  Comments  \\\n",
       "0         hd    False      True    303     23         0          0         0   \n",
       "1         hd    False      True     20      2         0          0         1   \n",
       "\n",
       "                                         Description  \\\n",
       "0  2024巴黎奧運再幾個小時就要開幕！每四年舉辦一次的奧林匹克運動會，是全球體育的巔峰盛事，大...   \n",
       "1                                                NaN   \n",
       "\n",
       "                                           URL  \n",
       "0  https://www.youtube.com/watch?v=znLBKPOPYWU  \n",
       "1  https://www.youtube.com/watch?v=vPxH9PoegPc  "
      ]
     },
     "execution_count": 14,
     "metadata": {},
     "output_type": "execute_result"
    }
   ],
   "source": [
    "df1.head(2)"
   ]
  },
  {
   "cell_type": "markdown",
   "id": "00b027d7-0a8a-4025-adfe-2ace53b95e93",
   "metadata": {},
   "source": [
    "***"
   ]
  },
  {
   "cell_type": "markdown",
   "id": "fc32d414-02f7-44ba-971f-bd358e27c49b",
   "metadata": {},
   "source": [
    "# Data Analysis & Visualisation"
   ]
  },
  {
   "cell_type": "code",
   "execution_count": 15,
   "id": "61b7f43e-396e-4511-8a1a-6ff7504d3bfe",
   "metadata": {},
   "outputs": [],
   "source": [
    "# change display option to show maximum 100 characters\n",
    "pd.options.display.max_colwidth = 100\n",
    "\n",
    "# suppress scientific notation by setting float_format\n",
    "pd.options.display.float_format = '{:.0f}'.format"
   ]
  },
  {
   "cell_type": "markdown",
   "id": "1d9e718a-dcd9-41fe-bdae-8e08c73f644d",
   "metadata": {},
   "source": [
    "## 1. General Statistics"
   ]
  },
  {
   "cell_type": "markdown",
   "id": "51db1a30-6fff-45c0-b3aa-f23c6aedf313",
   "metadata": {},
   "source": [
    "### 1.1. Video counts"
   ]
  },
  {
   "cell_type": "code",
   "execution_count": 16,
   "id": "b32da099-f6bd-46c8-95cd-0a507adef6be",
   "metadata": {},
   "outputs": [
    {
     "data": {
      "text/plain": [
       "1357"
      ]
     },
     "execution_count": 16,
     "metadata": {},
     "output_type": "execute_result"
    }
   ],
   "source": [
    "df1.shape[0]"
   ]
  },
  {
   "cell_type": "code",
   "execution_count": 17,
   "id": "e5e76d1d-698e-4637-ac05-a44e76b6a0d1",
   "metadata": {},
   "outputs": [
    {
     "data": {
      "text/plain": [
       "240"
      ]
     },
     "execution_count": 17,
     "metadata": {},
     "output_type": "execute_result"
    }
   ],
   "source": [
    "df2.shape[0]"
   ]
  },
  {
   "cell_type": "markdown",
   "id": "51e01169-485a-45c9-82b3-ab8d801494b0",
   "metadata": {
    "jp-MarkdownHeadingCollapsed": true
   },
   "source": [
    "_1357 videos on the AmazingTalker channel vs 240 videos on the AmazingTalker Show channel (till 2024/07/27)_"
   ]
  },
  {
   "cell_type": "markdown",
   "id": "d2bd1c59-16ad-4b31-bee0-ad3ba12f9288",
   "metadata": {},
   "source": [
    "### 1.2. Published dates of the first videos"
   ]
  },
  {
   "cell_type": "code",
   "execution_count": 18,
   "id": "681a97c6-b2c5-4b64-8dbf-5d925803091c",
   "metadata": {},
   "outputs": [
    {
     "data": {
      "text/plain": [
       "Timestamp('2016-11-21 18:02:33+0800', tz='Asia/Taipei')"
      ]
     },
     "execution_count": 18,
     "metadata": {},
     "output_type": "execute_result"
    }
   ],
   "source": [
    "df1['Published At'].min()"
   ]
  },
  {
   "cell_type": "code",
   "execution_count": 19,
   "id": "119a8e2a-8580-4a9e-9366-c5ee19aa5631",
   "metadata": {},
   "outputs": [
    {
     "data": {
      "text/plain": [
       "Timestamp('2021-01-15 21:01:28+0800', tz='Asia/Taipei')"
      ]
     },
     "execution_count": 19,
     "metadata": {},
     "output_type": "execute_result"
    }
   ],
   "source": [
    "df2['Published At'].min()"
   ]
  },
  {
   "cell_type": "markdown",
   "id": "bd79f7bd-2114-4943-a14e-b99f618487a3",
   "metadata": {},
   "source": [
    "_First video published in 2016 on the AmazingTalker channel vs 2021 on the AmazingTalker Show channel_"
   ]
  },
  {
   "cell_type": "markdown",
   "id": "32db2317-1c84-436d-9a3b-dec8ba2b35f4",
   "metadata": {},
   "source": [
    "### 1.3. Comparison of numerical values (duration, views, likes, dislikes, favorites, comments)"
   ]
  },
  {
   "cell_type": "code",
   "execution_count": 20,
   "id": "369ea424-208e-4bdc-a817-eaebeecd4ea5",
   "metadata": {},
   "outputs": [
    {
     "data": {
      "text/html": [
       "<div>\n",
       "<style scoped>\n",
       "    .dataframe tbody tr th:only-of-type {\n",
       "        vertical-align: middle;\n",
       "    }\n",
       "\n",
       "    .dataframe tbody tr th {\n",
       "        vertical-align: top;\n",
       "    }\n",
       "\n",
       "    .dataframe thead tr th {\n",
       "        text-align: left;\n",
       "    }\n",
       "</style>\n",
       "<table border=\"1\" class=\"dataframe\">\n",
       "  <thead>\n",
       "    <tr>\n",
       "      <th></th>\n",
       "      <th colspan=\"6\" halign=\"left\">AmazingTalker</th>\n",
       "      <th colspan=\"6\" halign=\"left\">AmazingTalker Show</th>\n",
       "    </tr>\n",
       "    <tr>\n",
       "      <th></th>\n",
       "      <th>Duration</th>\n",
       "      <th>Views</th>\n",
       "      <th>Likes</th>\n",
       "      <th>Dislikes</th>\n",
       "      <th>Favorites</th>\n",
       "      <th>Comments</th>\n",
       "      <th>Duration</th>\n",
       "      <th>Views</th>\n",
       "      <th>Likes</th>\n",
       "      <th>Dislikes</th>\n",
       "      <th>Favorites</th>\n",
       "      <th>Comments</th>\n",
       "    </tr>\n",
       "  </thead>\n",
       "  <tbody>\n",
       "    <tr>\n",
       "      <th>count</th>\n",
       "      <td>1357</td>\n",
       "      <td>1357</td>\n",
       "      <td>1357</td>\n",
       "      <td>1357</td>\n",
       "      <td>1357</td>\n",
       "      <td>1357</td>\n",
       "      <td>240</td>\n",
       "      <td>240</td>\n",
       "      <td>240</td>\n",
       "      <td>240</td>\n",
       "      <td>240</td>\n",
       "      <td>240</td>\n",
       "    </tr>\n",
       "    <tr>\n",
       "      <th>mean</th>\n",
       "      <td>91</td>\n",
       "      <td>122812</td>\n",
       "      <td>2765</td>\n",
       "      <td>0</td>\n",
       "      <td>0</td>\n",
       "      <td>30</td>\n",
       "      <td>861</td>\n",
       "      <td>519747</td>\n",
       "      <td>9363</td>\n",
       "      <td>0</td>\n",
       "      <td>0</td>\n",
       "      <td>262</td>\n",
       "    </tr>\n",
       "    <tr>\n",
       "      <th>std</th>\n",
       "      <td>182</td>\n",
       "      <td>354222</td>\n",
       "      <td>9166</td>\n",
       "      <td>0</td>\n",
       "      <td>0</td>\n",
       "      <td>80</td>\n",
       "      <td>344</td>\n",
       "      <td>530015</td>\n",
       "      <td>11890</td>\n",
       "      <td>0</td>\n",
       "      <td>0</td>\n",
       "      <td>305</td>\n",
       "    </tr>\n",
       "    <tr>\n",
       "      <th>min</th>\n",
       "      <td>7</td>\n",
       "      <td>20</td>\n",
       "      <td>0</td>\n",
       "      <td>0</td>\n",
       "      <td>0</td>\n",
       "      <td>0</td>\n",
       "      <td>29</td>\n",
       "      <td>34932</td>\n",
       "      <td>655</td>\n",
       "      <td>0</td>\n",
       "      <td>0</td>\n",
       "      <td>3</td>\n",
       "    </tr>\n",
       "    <tr>\n",
       "      <th>25%</th>\n",
       "      <td>25</td>\n",
       "      <td>2104</td>\n",
       "      <td>18</td>\n",
       "      <td>0</td>\n",
       "      <td>0</td>\n",
       "      <td>0</td>\n",
       "      <td>763</td>\n",
       "      <td>172136</td>\n",
       "      <td>2953</td>\n",
       "      <td>0</td>\n",
       "      <td>0</td>\n",
       "      <td>104</td>\n",
       "    </tr>\n",
       "    <tr>\n",
       "      <th>50%</th>\n",
       "      <td>39</td>\n",
       "      <td>19420</td>\n",
       "      <td>318</td>\n",
       "      <td>0</td>\n",
       "      <td>0</td>\n",
       "      <td>5</td>\n",
       "      <td>924</td>\n",
       "      <td>308272</td>\n",
       "      <td>4800</td>\n",
       "      <td>0</td>\n",
       "      <td>0</td>\n",
       "      <td>173</td>\n",
       "    </tr>\n",
       "    <tr>\n",
       "      <th>75%</th>\n",
       "      <td>82</td>\n",
       "      <td>71327</td>\n",
       "      <td>1411</td>\n",
       "      <td>0</td>\n",
       "      <td>0</td>\n",
       "      <td>22</td>\n",
       "      <td>1013</td>\n",
       "      <td>696348</td>\n",
       "      <td>11535</td>\n",
       "      <td>0</td>\n",
       "      <td>0</td>\n",
       "      <td>316</td>\n",
       "    </tr>\n",
       "    <tr>\n",
       "      <th>max</th>\n",
       "      <td>1389</td>\n",
       "      <td>4549754</td>\n",
       "      <td>128196</td>\n",
       "      <td>0</td>\n",
       "      <td>0</td>\n",
       "      <td>897</td>\n",
       "      <td>2648</td>\n",
       "      <td>3488330</td>\n",
       "      <td>108844</td>\n",
       "      <td>0</td>\n",
       "      <td>0</td>\n",
       "      <td>3068</td>\n",
       "    </tr>\n",
       "  </tbody>\n",
       "</table>\n",
       "</div>"
      ],
      "text/plain": [
       "      AmazingTalker                                             \\\n",
       "           Duration   Views  Likes Dislikes Favorites Comments   \n",
       "count          1357    1357   1357     1357      1357     1357   \n",
       "mean             91  122812   2765        0         0       30   \n",
       "std             182  354222   9166        0         0       80   \n",
       "min               7      20      0        0         0        0   \n",
       "25%              25    2104     18        0         0        0   \n",
       "50%              39   19420    318        0         0        5   \n",
       "75%              82   71327   1411        0         0       22   \n",
       "max            1389 4549754 128196        0         0      897   \n",
       "\n",
       "      AmazingTalker Show                                             \n",
       "                Duration   Views  Likes Dislikes Favorites Comments  \n",
       "count                240     240    240      240       240      240  \n",
       "mean                 861  519747   9363        0         0      262  \n",
       "std                  344  530015  11890        0         0      305  \n",
       "min                   29   34932    655        0         0        3  \n",
       "25%                  763  172136   2953        0         0      104  \n",
       "50%                  924  308272   4800        0         0      173  \n",
       "75%                 1013  696348  11535        0         0      316  \n",
       "max                 2648 3488330 108844        0         0     3068  "
      ]
     },
     "execution_count": 20,
     "metadata": {},
     "output_type": "execute_result"
    }
   ],
   "source": [
    "pd.concat([df1.describe(), df2.describe()], keys=['AmazingTalker', 'AmazingTalker Show'], axis=1)"
   ]
  },
  {
   "cell_type": "markdown",
   "id": "3b01641a-786f-4d8a-924f-e4c838c4e3ee",
   "metadata": {},
   "source": [
    "* _**Duration:** Overall, videos on the AmazingTalker channel are significantly shorter than those on the AmazingTalker Show channel, having lower mean, minimum, and maximum durations. .75% of the videos on the AmazingTalker channel are under 1.5 minutes._\n",
    "* _**Views:** View counts on the AmazingTalker Show channel are more evenly distributed, as indicated by a smaller standard deviation and a narrower range between minimum and maximum views. While the AmazingTalker channel has a higher maximum view count, 75% of its videos have fewer than 72k views. The AmazingTalker Show channel also boasts a higher average view count than the AmazingTalker channel._\n",
    "* _**Dislikes & Favorites:** Neither channel has any dislikes or favorites._\n",
    "* _**Comments:** The AmazingTalker Show channel has an average comment count more than eight times higher than that of the AmazingTalker channel. Furthermore, over 75% of the videos on the AmazingTalker Show channel receive more than 100 comments._"
   ]
  },
  {
   "cell_type": "code",
   "execution_count": 21,
   "id": "0905f531-0238-4f4d-a03c-dd3e28819779",
   "metadata": {},
   "outputs": [
    {
     "data": {
      "text/plain": [
       "Views       166656528\n",
       "Likes         3752560\n",
       "Comments        40518\n",
       "dtype: int64"
      ]
     },
     "execution_count": 21,
     "metadata": {},
     "output_type": "execute_result"
    }
   ],
   "source": [
    "df1[['Views', 'Likes', 'Comments']].sum()"
   ]
  },
  {
   "cell_type": "code",
   "execution_count": 22,
   "id": "b2414c4c-3198-4ffb-b7ba-fd557e787db3",
   "metadata": {},
   "outputs": [
    {
     "data": {
      "text/plain": [
       "Views       124739277\n",
       "Likes         2247013\n",
       "Comments        62975\n",
       "dtype: int64"
      ]
     },
     "execution_count": 22,
     "metadata": {},
     "output_type": "execute_result"
    }
   ],
   "source": [
    "df2[['Views', 'Likes', 'Comments']].sum()"
   ]
  },
  {
   "cell_type": "markdown",
   "id": "65037081-1f4c-4410-9ee1-b8792134b478",
   "metadata": {},
   "source": [
    "* _**Total views, likes, and comments:** With a longer history and more than five times the number of videos uploaded, the AmazingTalker channel surpasses the AmazingTalker Show channel in cumulative view and like counts. However, the AmazingTalker Show channel has a higher cumulative comment count, indicating greater viewer engagement and interactivity._"
   ]
  },
  {
   "cell_type": "markdown",
   "id": "e8bbc1fd-0eca-4446-8d7d-a53f2ca8aa22",
   "metadata": {},
   "source": [
    "_The two channels appear to adopt different strategies regarding video length. The AmazingTalker channel focuses on short-form content, aligning with the recent trend of short videos, while the AmazingTalker Show channel predominantly uploads videos longer than 10 minutes. In terms of overall channel success, the AmazingTalker Show channel outperforms in view, like, and comment counts._"
   ]
  },
  {
   "cell_type": "code",
   "execution_count": 23,
   "id": "7497a4d6-15d9-43f2-b831-72d1f7751021",
   "metadata": {},
   "outputs": [
    {
     "data": {
      "image/png": "[encoded data removed]",
      "text/plain": [
       "<Figure size 1000x800 with 4 Axes>"
      ]
     },
     "metadata": {},
     "output_type": "display_data"
    }
   ],
   "source": [
    "fig, ax = plt.subplots(2, 2, figsize=(10, 8))\n",
    "\n",
    "ax1 = ax[0, 0]\n",
    "ax2 = ax[0, 1]\n",
    "ax3 = ax[1, 0]\n",
    "ax4 = ax[1, 1]\n",
    "\n",
    "# visualise the distribution of video duration\n",
    "df1['Duration'].plot(kind='hist', alpha=0.5, bins=10, range=(0, 2648), label='AmazingTalker', ax=ax1)\n",
    "df2['Duration'].plot(kind='hist', alpha=0.5, bins=10, range=(0, 2648), label='AmazingTalker Show', ax=ax1)\n",
    "\n",
    "ax1.set_title('Distribution of Video Lengths')\n",
    "ax1.set_xlabel('Length')\n",
    "ax1.set_ylabel('Frequency')\n",
    "ax1.legend()\n",
    "\n",
    "# visualise the distribution of view counts\n",
    "df1['Views'].plot(kind='hist', alpha=0.5, bins=10, range=(0, 4549754), label='AmazingTalker', ax=ax2)\n",
    "df2['Views'].plot(kind='hist', alpha=0.5, bins=10, range=(0, 4549754), label='AmazingTalker Show', ax=ax2)\n",
    "\n",
    "ax2.set_title('Distribution of View Counts')\n",
    "ax2.set_xlabel('Views')\n",
    "ax2.set_ylabel('Frequency')\n",
    "ax2.set_xticks(ax2.get_xticks()[1:-1])\n",
    "ax2.set_xticklabels(['{:.0f}'.format(x) + 'M' for x in ax2.get_xticks() / 1000000])\n",
    "ax2.legend()\n",
    "\n",
    "# visualise the distribution of like counts\n",
    "df1['Likes'].plot(kind='hist', alpha=0.5, bins=10, range=(0, 128196), label='AmazingTalker', ax=ax3)\n",
    "df2['Likes'].plot(kind='hist', alpha=0.5, bins=10, range=(0, 128196), label='AmazingTalker Show', ax=ax3)\n",
    "\n",
    "ax3.set_title('Distribution of Like Counts')\n",
    "ax3.set_xlabel('Views')\n",
    "ax3.set_ylabel('Frequency')\n",
    "ax3.set_xticks(ax3.get_xticks()[1:-1])\n",
    "ax3.set_xticklabels(['{:.0f}'.format(x) + 'K' for x in ax3.get_xticks() / 1000])\n",
    "ax3.legend()\n",
    "\n",
    "# visualise the distribution of comment counts\n",
    "df1['Comments'].plot(kind='hist', alpha=0.5, bins=10, range=(0, 3068), label='AmazingTalker', ax=ax4)\n",
    "df2['Comments'].plot(kind='hist', alpha=0.5, bins=10, range=(0, 3068), label='AmazingTalker Show', ax=ax4)\n",
    "\n",
    "ax4.set_title('Distribution of Comment Counts')\n",
    "ax4.set_xlabel('Comments')\n",
    "ax4.set_ylabel('Frequency')\n",
    "ax4.legend()\n",
    "\n",
    "plt.tight_layout()"
   ]
  },
  {
   "cell_type": "markdown",
   "id": "c725bf98-6731-4b6f-9a51-d4dcdfe82458",
   "metadata": {},
   "source": [
    "### 1.4. Top 10 videos by view, like, and comment counts"
   ]
  },
  {
   "cell_type": "code",
   "execution_count": 24,
   "id": "f0441705-0ed8-45f4-b93a-51d8332fb99f",
   "metadata": {},
   "outputs": [
    {
     "data": {
      "text/html": [
       "<div>\n",
       "<style scoped>\n",
       "    .dataframe tbody tr th:only-of-type {\n",
       "        vertical-align: middle;\n",
       "    }\n",
       "\n",
       "    .dataframe tbody tr th {\n",
       "        vertical-align: top;\n",
       "    }\n",
       "\n",
       "    .dataframe thead tr th {\n",
       "        text-align: left;\n",
       "    }\n",
       "</style>\n",
       "<table border=\"1\" class=\"dataframe\">\n",
       "  <thead>\n",
       "    <tr>\n",
       "      <th></th>\n",
       "      <th colspan=\"4\" halign=\"left\">AmazingTalker Top 10 Views</th>\n",
       "      <th colspan=\"4\" halign=\"left\">Top 10 Lkes</th>\n",
       "      <th colspan=\"4\" halign=\"left\">Top 10 Comments</th>\n",
       "    </tr>\n",
       "    <tr>\n",
       "      <th></th>\n",
       "      <th>Title</th>\n",
       "      <th>Views</th>\n",
       "      <th>Duration</th>\n",
       "      <th>Published At</th>\n",
       "      <th>Title</th>\n",
       "      <th>Likes</th>\n",
       "      <th>Duration</th>\n",
       "      <th>Published At</th>\n",
       "      <th>Title</th>\n",
       "      <th>Comments</th>\n",
       "      <th>Duration</th>\n",
       "      <th>Published At</th>\n",
       "    </tr>\n",
       "  </thead>\n",
       "  <tbody>\n",
       "    <tr>\n",
       "      <th>0</th>\n",
       "      <td>陳柏霖教你 原來如此 英文怎麼說？ #陳柏霖 #驚奇玩起來 #reels #AmazingTalker #線上英文家教 #英語</td>\n",
       "      <td>4549754</td>\n",
       "      <td>35</td>\n",
       "      <td>2023-11-11 21:53:31+08:00</td>\n",
       "      <td>陳柏霖教你 原來如此 英文怎麼說？ #陳柏霖 #驚奇玩起來 #reels #AmazingTalker #線上英文家教 #英語</td>\n",
       "      <td>128196</td>\n",
       "      <td>35</td>\n",
       "      <td>2023-11-11 21:53:31+08:00</td>\n",
       "      <td>「我想要」才不是「I want」？Eko驚曝：跟老外講英文不會進步！？</td>\n",
       "      <td>897</td>\n",
       "      <td>29</td>\n",
       "      <td>2022-12-22 19:53:01+08:00</td>\n",
       "    </tr>\n",
       "    <tr>\n",
       "      <th>1</th>\n",
       "      <td>伍佰爆怒美腔「偽」英文？來學「Often」的正確發音！ #伍佰 #驚奇玩起來 #shorts #AmazingTalker #線上英文家教 #英語</td>\n",
       "      <td>3929205</td>\n",
       "      <td>37</td>\n",
       "      <td>2023-08-12 20:36:57+08:00</td>\n",
       "      <td>法國路易嗆爆Eko英式口音？</td>\n",
       "      <td>94675</td>\n",
       "      <td>26</td>\n",
       "      <td>2022-10-21 19:00:02+08:00</td>\n",
       "      <td>蔡恩雨示範「馬來西亞」英文！原來塞車他們都說ＸＸ.....</td>\n",
       "      <td>834</td>\n",
       "      <td>20</td>\n",
       "      <td>2022-09-18 19:00:31+08:00</td>\n",
       "    </tr>\n",
       "    <tr>\n",
       "      <th>2</th>\n",
       "      <td>陳芳語美式口音讓Eko老師快抓狂！？</td>\n",
       "      <td>3710518</td>\n",
       "      <td>16</td>\n",
       "      <td>2022-07-07 18:46:17+08:00</td>\n",
       "      <td>陳芳語美式口音讓Eko老師快抓狂！？</td>\n",
       "      <td>94341</td>\n",
       "      <td>16</td>\n",
       "      <td>2022-07-07 18:46:17+08:00</td>\n",
       "      <td>最常用的文法！Eko教你「子句」這樣說！</td>\n",
       "      <td>751</td>\n",
       "      <td>24</td>\n",
       "      <td>2023-03-29 19:32:05+08:00</td>\n",
       "    </tr>\n",
       "    <tr>\n",
       "      <th>3</th>\n",
       "      <td>Kimberley澳洲口音嚇壞Eko！“Emo”竟然是澳式英文？！</td>\n",
       "      <td>3083154</td>\n",
       "      <td>19</td>\n",
       "      <td>2022-08-14 19:00:24+08:00</td>\n",
       "      <td>蔡恩雨示範「馬來西亞」英文！原來塞車他們都說ＸＸ.....</td>\n",
       "      <td>90665</td>\n",
       "      <td>20</td>\n",
       "      <td>2022-09-18 19:00:31+08:00</td>\n",
       "      <td>男性自古有特權？！性別平等英文你會嗎？</td>\n",
       "      <td>717</td>\n",
       "      <td>39</td>\n",
       "      <td>2024-02-10 20:00:30+08:00</td>\n",
       "    </tr>\n",
       "    <tr>\n",
       "      <th>4</th>\n",
       "      <td>蔡恩雨示範「馬來西亞」英文！原來塞車他們都說ＸＸ.....</td>\n",
       "      <td>3044874</td>\n",
       "      <td>20</td>\n",
       "      <td>2022-09-18 19:00:31+08:00</td>\n",
       "      <td>伍佰爆怒美腔「偽」英文？來學「Often」的正確發音！ #伍佰 #驚奇玩起來 #shorts #AmazingTalker #線上英文家教 #英語</td>\n",
       "      <td>86433</td>\n",
       "      <td>37</td>\n",
       "      <td>2023-08-12 20:36:57+08:00</td>\n",
       "      <td>「幫我一下！」英文你也會跟他們一樣講錯嗎？Eko教你這樣說更勁爆！</td>\n",
       "      <td>695</td>\n",
       "      <td>22</td>\n",
       "      <td>2022-10-01 19:00:01+08:00</td>\n",
       "    </tr>\n",
       "    <tr>\n",
       "      <th>5</th>\n",
       "      <td>百靈果 podcast 之王 嗆爆驚奇脫口秀！！</td>\n",
       "      <td>2602363</td>\n",
       "      <td>38</td>\n",
       "      <td>2023-07-08 19:56:40+08:00</td>\n",
       "      <td>百靈果 podcast 之王 嗆爆驚奇脫口秀！！</td>\n",
       "      <td>85798</td>\n",
       "      <td>38</td>\n",
       "      <td>2023-07-08 19:56:40+08:00</td>\n",
       "      <td>Kimberley澳洲口音嚇壞Eko！“Emo”竟然是澳式英文？！</td>\n",
       "      <td>554</td>\n",
       "      <td>19</td>\n",
       "      <td>2022-08-14 19:00:24+08:00</td>\n",
       "    </tr>\n",
       "    <tr>\n",
       "      <th>6</th>\n",
       "      <td>吳卓源 Julia 爆笑「澳洲口音」氣死 Eko？Sandra 超愛澳洲人生氣都這樣說！</td>\n",
       "      <td>2581667</td>\n",
       "      <td>37</td>\n",
       "      <td>2022-12-18 20:02:20+08:00</td>\n",
       "      <td>Kimberley澳洲口音嚇壞Eko！“Emo”竟然是澳式英文？！</td>\n",
       "      <td>85690</td>\n",
       "      <td>19</td>\n",
       "      <td>2022-08-14 19:00:24+08:00</td>\n",
       "      <td>「越來越」你也只會說「more and more」？Eko 教一個你一定聽過的高級用法！</td>\n",
       "      <td>527</td>\n",
       "      <td>24</td>\n",
       "      <td>2022-12-12 20:22:20+08:00</td>\n",
       "    </tr>\n",
       "    <tr>\n",
       "      <th>7</th>\n",
       "      <td>【AmazingTalker】 線上語言家教媒合平台，超過 30 個國家的教師朋友等你來探索！</td>\n",
       "      <td>2343730</td>\n",
       "      <td>15</td>\n",
       "      <td>2017-07-06 10:45:04+08:00</td>\n",
       "      <td>鳳小岳崇尚英腔？從”漢堡”與”薯條“聊到英美口音之爭！</td>\n",
       "      <td>65022</td>\n",
       "      <td>42</td>\n",
       "      <td>2023-08-26 19:48:12+08:00</td>\n",
       "      <td>👉 留言告訴小編 F for ...？</td>\n",
       "      <td>517</td>\n",
       "      <td>19</td>\n",
       "      <td>2023-05-20 20:00:24+08:00</td>\n",
       "    </tr>\n",
       "    <tr>\n",
       "      <th>8</th>\n",
       "      <td>鳳小岳崇尚英腔？從”漢堡”與”薯條“聊到英美口音之爭！</td>\n",
       "      <td>2260064</td>\n",
       "      <td>42</td>\n",
       "      <td>2023-08-26 19:48:12+08:00</td>\n",
       "      <td>盧貝松教你法文的唯一秘訣！這個字的發音亞洲人都不會？#盧貝松 #驚奇玩起來 #reels #AmazingTalker #線上英文家教 #英語</td>\n",
       "      <td>58391</td>\n",
       "      <td>34</td>\n",
       "      <td>2024-01-29 20:22:20+08:00</td>\n",
       "      <td>陳芳語美式口音讓Eko老師快抓狂！？</td>\n",
       "      <td>500</td>\n",
       "      <td>16</td>\n",
       "      <td>2022-07-07 18:46:17+08:00</td>\n",
       "    </tr>\n",
       "    <tr>\n",
       "      <th>9</th>\n",
       "      <td>法國路易嗆爆Eko英式口音？</td>\n",
       "      <td>2216822</td>\n",
       "      <td>26</td>\n",
       "      <td>2022-10-21 19:00:02+08:00</td>\n",
       "      <td>吳卓源 Julia 爆笑「澳洲口音」氣死 Eko？Sandra 超愛澳洲人生氣都這樣說！</td>\n",
       "      <td>53478</td>\n",
       "      <td>37</td>\n",
       "      <td>2022-12-18 20:02:20+08:00</td>\n",
       "      <td>鳳小岳崇尚英腔？從”漢堡”與”薯條“聊到英美口音之爭！</td>\n",
       "      <td>487</td>\n",
       "      <td>42</td>\n",
       "      <td>2023-08-26 19:48:12+08:00</td>\n",
       "    </tr>\n",
       "  </tbody>\n",
       "</table>\n",
       "</div>"
      ],
      "text/plain": [
       "                                                  AmazingTalker Top 10 Views  \\\n",
       "                                                                       Title   \n",
       "0            陳柏霖教你 原來如此 英文怎麼說？ #陳柏霖 #驚奇玩起來 #reels #AmazingTalker #線上英文家教 #英語   \n",
       "1  伍佰爆怒美腔「偽」英文？來學「Often」的正確發音！ #伍佰 #驚奇玩起來 #shorts #AmazingTalker #線上英文家教 #英語   \n",
       "2                                                         陳芳語美式口音讓Eko老師快抓狂！？   \n",
       "3                                          Kimberley澳洲口音嚇壞Eko！“Emo”竟然是澳式英文？！   \n",
       "4                                              蔡恩雨示範「馬來西亞」英文！原來塞車他們都說ＸＸ.....   \n",
       "5                                                   百靈果 podcast 之王 嗆爆驚奇脫口秀！！   \n",
       "6                               吳卓源 Julia 爆笑「澳洲口音」氣死 Eko？Sandra 超愛澳洲人生氣都這樣說！   \n",
       "7                            【AmazingTalker】 線上語言家教媒合平台，超過 30 個國家的教師朋友等你來探索！   \n",
       "8                                                鳳小岳崇尚英腔？從”漢堡”與”薯條“聊到英美口音之爭！   \n",
       "9                                                             法國路易嗆爆Eko英式口音？   \n",
       "\n",
       "                                               \\\n",
       "     Views Duration              Published At   \n",
       "0  4549754       35 2023-11-11 21:53:31+08:00   \n",
       "1  3929205       37 2023-08-12 20:36:57+08:00   \n",
       "2  3710518       16 2022-07-07 18:46:17+08:00   \n",
       "3  3083154       19 2022-08-14 19:00:24+08:00   \n",
       "4  3044874       20 2022-09-18 19:00:31+08:00   \n",
       "5  2602363       38 2023-07-08 19:56:40+08:00   \n",
       "6  2581667       37 2022-12-18 20:02:20+08:00   \n",
       "7  2343730       15 2017-07-06 10:45:04+08:00   \n",
       "8  2260064       42 2023-08-26 19:48:12+08:00   \n",
       "9  2216822       26 2022-10-21 19:00:02+08:00   \n",
       "\n",
       "                                                                 Top 10 Lkes  \\\n",
       "                                                                       Title   \n",
       "0            陳柏霖教你 原來如此 英文怎麼說？ #陳柏霖 #驚奇玩起來 #reels #AmazingTalker #線上英文家教 #英語   \n",
       "1                                                             法國路易嗆爆Eko英式口音？   \n",
       "2                                                         陳芳語美式口音讓Eko老師快抓狂！？   \n",
       "3                                              蔡恩雨示範「馬來西亞」英文！原來塞車他們都說ＸＸ.....   \n",
       "4  伍佰爆怒美腔「偽」英文？來學「Often」的正確發音！ #伍佰 #驚奇玩起來 #shorts #AmazingTalker #線上英文家教 #英語   \n",
       "5                                                   百靈果 podcast 之王 嗆爆驚奇脫口秀！！   \n",
       "6                                          Kimberley澳洲口音嚇壞Eko！“Emo”竟然是澳式英文？！   \n",
       "7                                                鳳小岳崇尚英腔？從”漢堡”與”薯條“聊到英美口音之爭！   \n",
       "8    盧貝松教你法文的唯一秘訣！這個字的發音亞洲人都不會？#盧貝松 #驚奇玩起來 #reels #AmazingTalker #線上英文家教 #英語   \n",
       "9                               吳卓源 Julia 爆笑「澳洲口音」氣死 Eko？Sandra 超愛澳洲人生氣都這樣說！   \n",
       "\n",
       "                                              \\\n",
       "    Likes Duration              Published At   \n",
       "0  128196       35 2023-11-11 21:53:31+08:00   \n",
       "1   94675       26 2022-10-21 19:00:02+08:00   \n",
       "2   94341       16 2022-07-07 18:46:17+08:00   \n",
       "3   90665       20 2022-09-18 19:00:31+08:00   \n",
       "4   86433       37 2023-08-12 20:36:57+08:00   \n",
       "5   85798       38 2023-07-08 19:56:40+08:00   \n",
       "6   85690       19 2022-08-14 19:00:24+08:00   \n",
       "7   65022       42 2023-08-26 19:48:12+08:00   \n",
       "8   58391       34 2024-01-29 20:22:20+08:00   \n",
       "9   53478       37 2022-12-18 20:02:20+08:00   \n",
       "\n",
       "                                Top 10 Comments                    \\\n",
       "                                          Title Comments Duration   \n",
       "0           「我想要」才不是「I want」？Eko驚曝：跟老外講英文不會進步！？      897       29   \n",
       "1                 蔡恩雨示範「馬來西亞」英文！原來塞車他們都說ＸＸ.....      834       20   \n",
       "2                          最常用的文法！Eko教你「子句」這樣說！      751       24   \n",
       "3                           男性自古有特權？！性別平等英文你會嗎？      717       39   \n",
       "4             「幫我一下！」英文你也會跟他們一樣講錯嗎？Eko教你這樣說更勁爆！      695       22   \n",
       "5             Kimberley澳洲口音嚇壞Eko！“Emo”竟然是澳式英文？！      554       19   \n",
       "6  「越來越」你也只會說「more and more」？Eko 教一個你一定聽過的高級用法！      527       24   \n",
       "7                           👉 留言告訴小編 F for ...？      517       19   \n",
       "8                            陳芳語美式口音讓Eko老師快抓狂！？      500       16   \n",
       "9                   鳳小岳崇尚英腔？從”漢堡”與”薯條“聊到英美口音之爭！      487       42   \n",
       "\n",
       "                             \n",
       "               Published At  \n",
       "0 2022-12-22 19:53:01+08:00  \n",
       "1 2022-09-18 19:00:31+08:00  \n",
       "2 2023-03-29 19:32:05+08:00  \n",
       "3 2024-02-10 20:00:30+08:00  \n",
       "4 2022-10-01 19:00:01+08:00  \n",
       "5 2022-08-14 19:00:24+08:00  \n",
       "6 2022-12-12 20:22:20+08:00  \n",
       "7 2023-05-20 20:00:24+08:00  \n",
       "8 2022-07-07 18:46:17+08:00  \n",
       "9 2023-08-26 19:48:12+08:00  "
      ]
     },
     "execution_count": 24,
     "metadata": {},
     "output_type": "execute_result"
    }
   ],
   "source": [
    "# AmazingTalker channel\n",
    "pd.concat(\n",
    "    [\n",
    "        df1.sort_values(by='Views', ascending=False)[['Title', 'Views', 'Duration', 'Published At']].head(10).reset_index(drop=True),\n",
    "        df1.sort_values(by='Likes', ascending=False)[['Title', 'Likes', 'Duration', 'Published At']].head(10).reset_index(drop=True),\n",
    "        df1.sort_values(by='Comments', ascending=False)[['Title', 'Comments', 'Duration', 'Published At']].head(10).reset_index(drop=True)\n",
    "    ],\n",
    "    keys=['AmazingTalker Top 10 Views', 'Top 10 Lkes', 'Top 10 Comments'],\n",
    "    axis=1\n",
    ")"
   ]
  },
  {
   "cell_type": "code",
   "execution_count": 25,
   "id": "2de77eb4-3894-460b-936b-585710560876",
   "metadata": {},
   "outputs": [
    {
     "data": {
      "text/html": [
       "<div>\n",
       "<style scoped>\n",
       "    .dataframe tbody tr th:only-of-type {\n",
       "        vertical-align: middle;\n",
       "    }\n",
       "\n",
       "    .dataframe tbody tr th {\n",
       "        vertical-align: top;\n",
       "    }\n",
       "\n",
       "    .dataframe thead tr th {\n",
       "        text-align: left;\n",
       "    }\n",
       "</style>\n",
       "<table border=\"1\" class=\"dataframe\">\n",
       "  <thead>\n",
       "    <tr>\n",
       "      <th></th>\n",
       "      <th colspan=\"4\" halign=\"left\">AmazingTalker Show Top 10 vVews</th>\n",
       "      <th colspan=\"4\" halign=\"left\">Top 10 Likes</th>\n",
       "      <th colspan=\"4\" halign=\"left\">Top 10 Comments</th>\n",
       "    </tr>\n",
       "    <tr>\n",
       "      <th></th>\n",
       "      <th>Title</th>\n",
       "      <th>Views</th>\n",
       "      <th>Duration</th>\n",
       "      <th>Published At</th>\n",
       "      <th>Title</th>\n",
       "      <th>Likes</th>\n",
       "      <th>Duration</th>\n",
       "      <th>Published At</th>\n",
       "      <th>Title</th>\n",
       "      <th>Comments</th>\n",
       "      <th>Duration</th>\n",
       "      <th>Published At</th>\n",
       "    </tr>\n",
       "  </thead>\n",
       "  <tbody>\n",
       "    <tr>\n",
       "      <th>0</th>\n",
       "      <td>☝🏼沒認真唸英文 卻英文超好？Eko親弟爆料他英國口音都是裝的！ #驚奇脫口秀 #amazingtalker #時不我予</td>\n",
       "      <td>3488330</td>\n",
       "      <td>31</td>\n",
       "      <td>2024-05-08 18:00:19+08:00</td>\n",
       "      <td>☝🏼沒認真唸英文 卻英文超好？Eko親弟爆料他英國口音都是裝的！ #驚奇脫口秀 #amazingtalker #時不我予</td>\n",
       "      <td>108844</td>\n",
       "      <td>31</td>\n",
       "      <td>2024-05-08 18:00:19+08:00</td>\n",
       "      <td>柯文哲寫英文論文超簡單?! 最正經的市長大開幹話模式？Sandra竟然比學姐年輕? 阿北愛恨不需要理由？| ( ft. @Team__KP ）驚奇脫口秀#82</td>\n",
       "      <td>3068</td>\n",
       "      <td>1075</td>\n",
       "      <td>2022-10-16 19:30:09+08:00</td>\n",
       "    </tr>\n",
       "    <tr>\n",
       "      <th>1</th>\n",
       "      <td>柯文哲寫英文論文超簡單?! 最正經的市長大開幹話模式？Sandra竟然比學姐年輕? 阿北愛恨不需要理由？| ( ft. @Team__KP ）驚奇脫口秀#82</td>\n",
       "      <td>3203096</td>\n",
       "      <td>1075</td>\n",
       "      <td>2022-10-16 19:30:09+08:00</td>\n",
       "      <td>☝🏼教法國人正統法文？潘若迪精通英法文超強的？ feat. @FunkyDance #驚奇脫口秀 #amazingtalker #潘若迪</td>\n",
       "      <td>64993</td>\n",
       "      <td>47</td>\n",
       "      <td>2024-05-30 18:09:26+08:00</td>\n",
       "      <td>賴清德最愛台灣腔英文?!現場爆氣大罵Sandra Eko?!唸哈佛原來是因為宗教關係!!| ft @Chingte_Taiwan  驚奇脫口秀#160</td>\n",
       "      <td>2223</td>\n",
       "      <td>948</td>\n",
       "      <td>2023-12-03 19:30:01+08:00</td>\n",
       "    </tr>\n",
       "    <tr>\n",
       "      <th>2</th>\n",
       "      <td>陳芳語首次公開出櫃！Eko被讚英文最有質感?? 七分編湊合兩人竟是失散知音???| ( ft.@itsKimberleyChen）驚奇脫口秀#45</td>\n",
       "      <td>2664711</td>\n",
       "      <td>1202</td>\n",
       "      <td>2022-03-27 20:11:44+08:00</td>\n",
       "      <td>☝🏼床事法文是「XX爆炸」？潘若迪60歲沒體力做了？  Feat.@FunkyDance #驚奇脫口秀 #amazingtalker #潘若迪</td>\n",
       "      <td>57562</td>\n",
       "      <td>42</td>\n",
       "      <td>2024-05-27 18:40:00+08:00</td>\n",
       "      <td>宋楚瑜獻唱英文歌!! 跨世代英文口譯對決!? 訓斥Eko Sandra粗俗 聽不懂人話?!  | ( ft. @soong6277 ）驚奇脫口秀#168</td>\n",
       "      <td>1672</td>\n",
       "      <td>986</td>\n",
       "      <td>2024-01-07 19:30:11+08:00</td>\n",
       "    </tr>\n",
       "    <tr>\n",
       "      <th>3</th>\n",
       "      <td>☝🏼教法國人正統法文？潘若迪精通英法文超強的？ feat. @FunkyDance #驚奇脫口秀 #amazingtalker #潘若迪</td>\n",
       "      <td>2497542</td>\n",
       "      <td>47</td>\n",
       "      <td>2024-05-30 18:09:26+08:00</td>\n",
       "      <td>柯文哲寫英文論文超簡單?! 最正經的市長大開幹話模式？Sandra竟然比學姐年輕? 阿北愛恨不需要理由？| ( ft. @Team__KP ）驚奇脫口秀#82</td>\n",
       "      <td>53797</td>\n",
       "      <td>1075</td>\n",
       "      <td>2022-10-16 19:30:09+08:00</td>\n",
       "      <td>☝🏼教法國人正統法文？潘若迪精通英法文超強的？ feat. @FunkyDance #驚奇脫口秀 #amazingtalker #潘若迪</td>\n",
       "      <td>955</td>\n",
       "      <td>47</td>\n",
       "      <td>2024-05-30 18:09:26+08:00</td>\n",
       "    </tr>\n",
       "    <tr>\n",
       "      <th>4</th>\n",
       "      <td>胡宇威竟是美國人英文超完美!? Eko與宇威甜蜜接觸直擊?? 不老基因秘密大公開!! | (ft. 胡宇威/親愛的亞當 ）驚奇脫口秀#58</td>\n",
       "      <td>2098464</td>\n",
       "      <td>851</td>\n",
       "      <td>2022-06-05 19:00:42+08:00</td>\n",
       "      <td>☝🏼江老師被Sandra惹怒！古典義大利文反嗆主持人？ Feat.@iamteacherchiang  #驚奇脫口秀 #amazingtalker #江老師 #古典樂</td>\n",
       "      <td>44984</td>\n",
       "      <td>42</td>\n",
       "      <td>2024-05-20 18:34:19+08:00</td>\n",
       "      <td>百靈果Podcast之王登場，凱莉口譯電爆Sandra!? Ken竟會這樣裸奔!? Eko拋棄夥伴看戲！| ( ft.@bailingguo  ）驚奇脫口秀#127</td>\n",
       "      <td>882</td>\n",
       "      <td>1133</td>\n",
       "      <td>2023-06-11 19:30:03+08:00</td>\n",
       "    </tr>\n",
       "    <tr>\n",
       "      <th>5</th>\n",
       "      <td>☝🏼床事法文是「XX爆炸」？潘若迪60歲沒體力做了？  Feat.@FunkyDance #驚奇脫口秀 #amazingtalker #潘若迪</td>\n",
       "      <td>1998998</td>\n",
       "      <td>42</td>\n",
       "      <td>2024-05-27 18:40:00+08:00</td>\n",
       "      <td>陳芳語首次公開出櫃！Eko被讚英文最有質感?? 七分編湊合兩人竟是失散知音???| ( ft.@itsKimberleyChen）驚奇脫口秀#45</td>\n",
       "      <td>44123</td>\n",
       "      <td>1202</td>\n",
       "      <td>2022-03-27 20:11:44+08:00</td>\n",
       "      <td>陳芳語首次公開出櫃！Eko被讚英文最有質感?? 七分編湊合兩人竟是失散知音???| ( ft.@itsKimberleyChen）驚奇脫口秀#45</td>\n",
       "      <td>855</td>\n",
       "      <td>1202</td>\n",
       "      <td>2022-03-27 20:11:44+08:00</td>\n",
       "    </tr>\n",
       "    <tr>\n",
       "      <th>6</th>\n",
       "      <td>薔薔辦告別單身趴幫Eko轉大人？Eko對情趣用品的英文瞭若指掌？Sandra控制不住薔薔乾脆一起調戲Eko？ | ( ft.@maze0517  ）驚奇脫口秀#40</td>\n",
       "      <td>1824259</td>\n",
       "      <td>927</td>\n",
       "      <td>2022-02-18 19:30:19+08:00</td>\n",
       "      <td>☝🏼美國台灣媳婦莎白！Eko抱怨台灣路口很差沒法律  #驚奇脫口秀 #amazingtalker #莎白  #Eko #台灣媳婦</td>\n",
       "      <td>42478</td>\n",
       "      <td>48</td>\n",
       "      <td>2024-07-01 18:40:00+08:00</td>\n",
       "      <td>江老師點評Eko琴技！Sandra馬友友音樂會聽到睡著?!不知道「給愛麗絲」是誰寫？！驚奇音樂會正式開始！| ( ft.  @iamteacherchiang      ）驚奇脫口秀#193</td>\n",
       "      <td>850</td>\n",
       "      <td>1009</td>\n",
       "      <td>2024-05-19 19:30:21+08:00</td>\n",
       "    </tr>\n",
       "    <tr>\n",
       "      <th>7</th>\n",
       "      <td>百靈果Podcast之王登場，凱莉口譯電爆Sandra!? Ken竟會這樣裸奔!? Eko拋棄夥伴看戲！| ( ft.@bailingguo  ）驚奇脫口秀#127</td>\n",
       "      <td>1772195</td>\n",
       "      <td>1133</td>\n",
       "      <td>2023-06-11 19:30:03+08:00</td>\n",
       "      <td>☝🏼鄭中基教你廣東話髒話！開黃色笑話讓Sandra羞紅臉！#驚奇脫口秀 #amazingtalker #鄭中基</td>\n",
       "      <td>39746</td>\n",
       "      <td>43</td>\n",
       "      <td>2024-06-14 19:00:24+08:00</td>\n",
       "      <td>伍佰搖滾傳奇降臨!! Eko跟傳奇竟然一拍即合!? 伍佰喜歡英腔還是美腔!? Sandra記錯歌詞被臭罵!?| ( ft. @clubwubai  ）驚奇脫口秀#133</td>\n",
       "      <td>817</td>\n",
       "      <td>963</td>\n",
       "      <td>2023-07-16 19:30:26+08:00</td>\n",
       "    </tr>\n",
       "    <tr>\n",
       "      <th>8</th>\n",
       "      <td>伍佰搖滾傳奇降臨!! Eko跟傳奇竟然一拍即合!? 伍佰喜歡英腔還是美腔!? Sandra記錯歌詞被臭罵!?| ( ft. @clubwubai  ）驚奇脫口秀#133</td>\n",
       "      <td>1680331</td>\n",
       "      <td>963</td>\n",
       "      <td>2023-07-16 19:30:26+08:00</td>\n",
       "      <td>☝🏼Dodomen在美國被霸凌?!講What’s up而被黑人欺負？ Feat. @TheDoDoMen  #驚奇脫口秀 #amazingtalker #dodomen</td>\n",
       "      <td>34771</td>\n",
       "      <td>39</td>\n",
       "      <td>2024-05-23 18:30:11+08:00</td>\n",
       "      <td>侯友宜降臨英文頻道!! 大學聯考也英文7分!? 學英文用台語拼音?200個警察同時鐵人三項?! 驚奇脫口秀#167</td>\n",
       "      <td>766</td>\n",
       "      <td>944</td>\n",
       "      <td>2024-01-01 19:30:23+08:00</td>\n",
       "    </tr>\n",
       "    <tr>\n",
       "      <th>9</th>\n",
       "      <td>泰國娘娘 花式開嗆Eko不簡單?! 罵人英文竟也有好的意涵? 勁辣內容讓Eko＋Sandra招架不住? | ( ft.@alizabethlin ）驚奇脫口秀#53</td>\n",
       "      <td>1630199</td>\n",
       "      <td>1089</td>\n",
       "      <td>2022-05-08 21:37:47+08:00</td>\n",
       "      <td>☝🏼劉品言示範法文點餐！用浪漫語言調情服務生？ #驚奇脫口秀 #amazingtalker #劉品言</td>\n",
       "      <td>33772</td>\n",
       "      <td>33</td>\n",
       "      <td>2024-05-10 19:00:29+08:00</td>\n",
       "      <td>館長英文《拳上》對決主持人！黑道真的不能混！心路歷程全公開！台/英/中/法髒話對罵火藥味超重！？ | ( ft.  @GenghisKhan_3cm  ）驚奇脫口秀#132</td>\n",
       "      <td>757</td>\n",
       "      <td>985</td>\n",
       "      <td>2023-07-09 19:30:15+08:00</td>\n",
       "    </tr>\n",
       "  </tbody>\n",
       "</table>\n",
       "</div>"
      ],
      "text/plain": [
       "                                                        AmazingTalker Show Top 10 vVews  \\\n",
       "                                                                                  Title   \n",
       "0                          ☝🏼沒認真唸英文 卻英文超好？Eko親弟爆料他英國口音都是裝的！ #驚奇脫口秀 #amazingtalker #時不我予   \n",
       "1       柯文哲寫英文論文超簡單?! 最正經的市長大開幹話模式？Sandra竟然比學姐年輕? 阿北愛恨不需要理由？| ( ft. @Team__KP ）驚奇脫口秀#82   \n",
       "2             陳芳語首次公開出櫃！Eko被讚英文最有質感?? 七分編湊合兩人竟是失散知音???| ( ft.@itsKimberleyChen）驚奇脫口秀#45   \n",
       "3                  ☝🏼教法國人正統法文？潘若迪精通英法文超強的？ feat. @FunkyDance #驚奇脫口秀 #amazingtalker #潘若迪   \n",
       "4                 胡宇威竟是美國人英文超完美!? Eko與宇威甜蜜接觸直擊?? 不老基因秘密大公開!! | (ft. 胡宇威/親愛的亞當 ）驚奇脫口秀#58   \n",
       "5               ☝🏼床事法文是「XX爆炸」？潘若迪60歲沒體力做了？  Feat.@FunkyDance #驚奇脫口秀 #amazingtalker #潘若迪   \n",
       "6    薔薔辦告別單身趴幫Eko轉大人？Eko對情趣用品的英文瞭若指掌？Sandra控制不住薔薔乾脆一起調戲Eko？ | ( ft.@maze0517  ）驚奇脫口秀#40   \n",
       "7    百靈果Podcast之王登場，凱莉口譯電爆Sandra!? Ken竟會這樣裸奔!? Eko拋棄夥伴看戲！| ( ft.@bailingguo  ）驚奇脫口秀#127   \n",
       "8  伍佰搖滾傳奇降臨!! Eko跟傳奇竟然一拍即合!? 伍佰喜歡英腔還是美腔!? Sandra記錯歌詞被臭罵!?| ( ft. @clubwubai  ）驚奇脫口秀#133   \n",
       "9    泰國娘娘 花式開嗆Eko不簡單?! 罵人英文竟也有好的意涵? 勁辣內容讓Eko＋Sandra招架不住? | ( ft.@alizabethlin ）驚奇脫口秀#53   \n",
       "\n",
       "                                               \\\n",
       "     Views Duration              Published At   \n",
       "0  3488330       31 2024-05-08 18:00:19+08:00   \n",
       "1  3203096     1075 2022-10-16 19:30:09+08:00   \n",
       "2  2664711     1202 2022-03-27 20:11:44+08:00   \n",
       "3  2497542       47 2024-05-30 18:09:26+08:00   \n",
       "4  2098464      851 2022-06-05 19:00:42+08:00   \n",
       "5  1998998       42 2024-05-27 18:40:00+08:00   \n",
       "6  1824259      927 2022-02-18 19:30:19+08:00   \n",
       "7  1772195     1133 2023-06-11 19:30:03+08:00   \n",
       "8  1680331      963 2023-07-16 19:30:26+08:00   \n",
       "9  1630199     1089 2022-05-08 21:37:47+08:00   \n",
       "\n",
       "                                                                           Top 10 Likes  \\\n",
       "                                                                                  Title   \n",
       "0                          ☝🏼沒認真唸英文 卻英文超好？Eko親弟爆料他英國口音都是裝的！ #驚奇脫口秀 #amazingtalker #時不我予   \n",
       "1                  ☝🏼教法國人正統法文？潘若迪精通英法文超強的？ feat. @FunkyDance #驚奇脫口秀 #amazingtalker #潘若迪   \n",
       "2               ☝🏼床事法文是「XX爆炸」？潘若迪60歲沒體力做了？  Feat.@FunkyDance #驚奇脫口秀 #amazingtalker #潘若迪   \n",
       "3       柯文哲寫英文論文超簡單?! 最正經的市長大開幹話模式？Sandra竟然比學姐年輕? 阿北愛恨不需要理由？| ( ft. @Team__KP ）驚奇脫口秀#82   \n",
       "4   ☝🏼江老師被Sandra惹怒！古典義大利文反嗆主持人？ Feat.@iamteacherchiang  #驚奇脫口秀 #amazingtalker #江老師 #古典樂   \n",
       "5             陳芳語首次公開出櫃！Eko被讚英文最有質感?? 七分編湊合兩人竟是失散知音???| ( ft.@itsKimberleyChen）驚奇脫口秀#45   \n",
       "6                      ☝🏼美國台灣媳婦莎白！Eko抱怨台灣路口很差沒法律  #驚奇脫口秀 #amazingtalker #莎白  #Eko #台灣媳婦   \n",
       "7                               ☝🏼鄭中基教你廣東話髒話！開黃色笑話讓Sandra羞紅臉！#驚奇脫口秀 #amazingtalker #鄭中基   \n",
       "8  ☝🏼Dodomen在美國被霸凌?!講What’s up而被黑人欺負？ Feat. @TheDoDoMen  #驚奇脫口秀 #amazingtalker #dodomen   \n",
       "9                                    ☝🏼劉品言示範法文點餐！用浪漫語言調情服務生？ #驚奇脫口秀 #amazingtalker #劉品言   \n",
       "\n",
       "                                              \\\n",
       "    Likes Duration              Published At   \n",
       "0  108844       31 2024-05-08 18:00:19+08:00   \n",
       "1   64993       47 2024-05-30 18:09:26+08:00   \n",
       "2   57562       42 2024-05-27 18:40:00+08:00   \n",
       "3   53797     1075 2022-10-16 19:30:09+08:00   \n",
       "4   44984       42 2024-05-20 18:34:19+08:00   \n",
       "5   44123     1202 2022-03-27 20:11:44+08:00   \n",
       "6   42478       48 2024-07-01 18:40:00+08:00   \n",
       "7   39746       43 2024-06-14 19:00:24+08:00   \n",
       "8   34771       39 2024-05-23 18:30:11+08:00   \n",
       "9   33772       33 2024-05-10 19:00:29+08:00   \n",
       "\n",
       "                                                                                   Top 10 Comments  \\\n",
       "                                                                                             Title   \n",
       "0                  柯文哲寫英文論文超簡單?! 最正經的市長大開幹話模式？Sandra竟然比學姐年輕? 阿北愛恨不需要理由？| ( ft. @Team__KP ）驚奇脫口秀#82   \n",
       "1                      賴清德最愛台灣腔英文?!現場爆氣大罵Sandra Eko?!唸哈佛原來是因為宗教關係!!| ft @Chingte_Taiwan  驚奇脫口秀#160   \n",
       "2                     宋楚瑜獻唱英文歌!! 跨世代英文口譯對決!? 訓斥Eko Sandra粗俗 聽不懂人話?!  | ( ft. @soong6277 ）驚奇脫口秀#168   \n",
       "3                             ☝🏼教法國人正統法文？潘若迪精通英法文超強的？ feat. @FunkyDance #驚奇脫口秀 #amazingtalker #潘若迪   \n",
       "4               百靈果Podcast之王登場，凱莉口譯電爆Sandra!? Ken竟會這樣裸奔!? Eko拋棄夥伴看戲！| ( ft.@bailingguo  ）驚奇脫口秀#127   \n",
       "5                        陳芳語首次公開出櫃！Eko被讚英文最有質感?? 七分編湊合兩人竟是失散知音???| ( ft.@itsKimberleyChen）驚奇脫口秀#45   \n",
       "6  江老師點評Eko琴技！Sandra馬友友音樂會聽到睡著?!不知道「給愛麗絲」是誰寫？！驚奇音樂會正式開始！| ( ft.  @iamteacherchiang      ）驚奇脫口秀#193   \n",
       "7             伍佰搖滾傳奇降臨!! Eko跟傳奇竟然一拍即合!? 伍佰喜歡英腔還是美腔!? Sandra記錯歌詞被臭罵!?| ( ft. @clubwubai  ）驚奇脫口秀#133   \n",
       "8                                        侯友宜降臨英文頻道!! 大學聯考也英文7分!? 學英文用台語拼音?200個警察同時鐵人三項?! 驚奇脫口秀#167   \n",
       "9           館長英文《拳上》對決主持人！黑道真的不能混！心路歷程全公開！台/英/中/法髒話對罵火藥味超重！？ | ( ft.  @GenghisKhan_3cm  ）驚奇脫口秀#132   \n",
       "\n",
       "                                               \n",
       "  Comments Duration              Published At  \n",
       "0     3068     1075 2022-10-16 19:30:09+08:00  \n",
       "1     2223      948 2023-12-03 19:30:01+08:00  \n",
       "2     1672      986 2024-01-07 19:30:11+08:00  \n",
       "3      955       47 2024-05-30 18:09:26+08:00  \n",
       "4      882     1133 2023-06-11 19:30:03+08:00  \n",
       "5      855     1202 2022-03-27 20:11:44+08:00  \n",
       "6      850     1009 2024-05-19 19:30:21+08:00  \n",
       "7      817      963 2023-07-16 19:30:26+08:00  \n",
       "8      766      944 2024-01-01 19:30:23+08:00  \n",
       "9      757      985 2023-07-09 19:30:15+08:00  "
      ]
     },
     "execution_count": 25,
     "metadata": {},
     "output_type": "execute_result"
    }
   ],
   "source": [
    "# AmazingTalker Show channel\n",
    "pd.concat(\n",
    "    [\n",
    "        df2.sort_values(by='Views', ascending=False)[['Title', 'Views', 'Duration', 'Published At']].head(10).reset_index(drop=True),\n",
    "        df2.sort_values(by='Likes', ascending=False)[['Title', 'Likes', 'Duration', 'Published At']].head(10).reset_index(drop=True),\n",
    "        df2.sort_values(by='Comments', ascending=False)[['Title', 'Comments', 'Duration', 'Published At']].head(10).reset_index(drop=True)\n",
    "    ],\n",
    "    keys=['AmazingTalker Show Top 10 vVews', 'Top 10 Likes', 'Top 10 Comments'],\n",
    "    axis=1\n",
    ")"
   ]
  },
  {
   "cell_type": "markdown",
   "id": "78eb9a87-649b-4453-b0f4-66bb07dd2dd2",
   "metadata": {},
   "source": [
    "## 2. Publishing frequency & consistency"
   ]
  },
  {
   "cell_type": "markdown",
   "id": "bc3a1eb8-ab9b-492b-97ac-e0443a6567b0",
   "metadata": {},
   "source": [
    "### 2.1. Number of videos published over time (monthly)"
   ]
  },
  {
   "cell_type": "code",
   "execution_count": 26,
   "id": "bf0a05e6-c73a-4083-88ad-98bb8af1776b",
   "metadata": {},
   "outputs": [
    {
     "name": "stderr",
     "output_type": "stream",
     "text": [
      "C:\\Users\\maggi\\AppData\\Local\\Temp\\ipykernel_11280\\2094593489.py:2: UserWarning: Converting to PeriodArray/Index representation will drop timezone information.\n",
      "  pov1 = df1.groupby(df1['Published At'].dt.to_period('M')).size().reset_index(name='Count')\n",
      "C:\\Users\\maggi\\AppData\\Local\\Temp\\ipykernel_11280\\2094593489.py:3: UserWarning: Converting to PeriodArray/Index representation will drop timezone information.\n",
      "  pov2 = df2.groupby(df2['Published At'].dt.to_period('M')).size().reset_index(name='Count')\n"
     ]
    },
    {
     "data": {
      "image/png": "[encoded data removed]",
      "text/plain": [
       "<Figure size 1500x1000 with 2 Axes>"
      ]
     },
     "metadata": {},
     "output_type": "display_data"
    }
   ],
   "source": [
    "# group by year and month, and count the number of videos uploaded each month\n",
    "pov1 = df1.groupby(df1['Published At'].dt.to_period('M')).size().reset_index(name='Count')\n",
    "pov2 = df2.groupby(df2['Published At'].dt.to_period('M')).size().reset_index(name='Count')\n",
    "pov1['Published At'] = pov1['Published At'].dt.to_timestamp()\n",
    "pov2['Published At'] = pov2['Published At'].dt.to_timestamp()\n",
    "\n",
    "# create a complete date range from the start to the end of the data\n",
    "date_range1 = pd.date_range(start=pov1['Published At'].min(), end=pov1['Published At'].max(), freq='MS')\n",
    "date_range2 = pd.date_range(start=pov2['Published At'].min(), end=pov2['Published At'].max(), freq='MS')\n",
    "\n",
    "# reindex the dataframe to include all months, filling missing values with 0\n",
    "pov1 = pov1.set_index('Published At').reindex(date_range1, fill_value=0).rename_axis('Published At').reset_index()\n",
    "pov2 = pov2.set_index('Published At').reindex(date_range2, fill_value=0).rename_axis('Published At').reset_index()\n",
    "\n",
    "# plot line charts\n",
    "fig, ax = plt.subplots(2, 1, figsize=(15, 10))\n",
    "\n",
    "ax1 = ax[0]\n",
    "ax2 = ax[1]\n",
    "\n",
    "ax1.plot(pov1['Published At'], pov1['Count'])\n",
    "ax2.plot(pov2['Published At'], pov2['Count'])\n",
    "\n",
    "# set major ticks format and location for the x-axis\n",
    "ax1.xaxis.set_major_locator(mdates.MonthLocator(bymonth=(1, 7)))\n",
    "ax1.xaxis.set_major_formatter(mdates.DateFormatter('%Y-%m'))\n",
    "ax2.xaxis.set_major_locator(mdates.MonthLocator(bymonth=(1, 7)))\n",
    "ax2.xaxis.set_major_formatter(mdates.DateFormatter('%Y-%m'))\n",
    "\n",
    "# set minor ticks location for the x-axis\n",
    "ax1.xaxis.set_minor_locator(mdates.MonthLocator())\n",
    "ax2.xaxis.set_minor_locator(mdates.MonthLocator())\n",
    "\n",
    "# set minor ticks location for the y-axis\n",
    "ax1.yaxis.set_minor_locator(MultipleLocator(5))\n",
    "ax2.yaxis.set_minor_locator(MultipleLocator(5))\n",
    "\n",
    "# add grid lines\n",
    "ax1.grid(axis='y')\n",
    "ax2.grid(axis='y')\n",
    "\n",
    "# add titles\n",
    "ax1.set_title('Number of Videos Published Monthly (AmazingTalker)')\n",
    "ax2.set_title('Number of Videos Published Monthly (AmazingTalker Show)')\n",
    "\n",
    "# standardise xlim and ylim\n",
    "ax2.set_xlim(ax1.get_xlim())\n",
    "ax2.set_ylim(ax1.get_ylim())\n",
    "\n",
    "plt.show()"
   ]
  },
  {
   "cell_type": "markdown",
   "id": "2b29f064-7936-4843-8fb2-2a15d443e3d3",
   "metadata": {},
   "source": [
    "_As can be seen from the line charts above, videos on the AmazingTalker channel had not not published regularly, having some months with a great amount of videos published and some other with no video uploaded at all, until 2021, about the same time when the AmazingTalker Show channel was activated._"
   ]
  },
  {
   "cell_type": "markdown",
   "id": "ed93d1e5-7e46-4bc4-8001-0bb4ef4362d8",
   "metadata": {},
   "source": [
    "### 2.2. Calculating days between every two consecutive publishing dates"
   ]
  },
  {
   "cell_type": "code",
   "execution_count": 27,
   "id": "6c9e3167-c71f-4c45-b6b5-7a3fc7c534f5",
   "metadata": {},
   "outputs": [],
   "source": [
    "# caluclate days between every two consicutive uploads\n",
    "pf1 = df1['Published At'].sort_values().diff().dt.days.reset_index(drop=True, name='Diff')\n",
    "pf2 = df2['Published At'].sort_values().diff().dt.days.reset_index(drop=True, name='Diff')"
   ]
  },
  {
   "cell_type": "code",
   "execution_count": 28,
   "id": "4e8965c7-a5a8-4980-a382-d7ec0affcf09",
   "metadata": {},
   "outputs": [
    {
     "data": {
      "text/html": [
       "<div>\n",
       "<style scoped>\n",
       "    .dataframe tbody tr th:only-of-type {\n",
       "        vertical-align: middle;\n",
       "    }\n",
       "\n",
       "    .dataframe tbody tr th {\n",
       "        vertical-align: top;\n",
       "    }\n",
       "\n",
       "    .dataframe thead th {\n",
       "        text-align: right;\n",
       "    }\n",
       "</style>\n",
       "<table border=\"1\" class=\"dataframe\">\n",
       "  <thead>\n",
       "    <tr style=\"text-align: right;\">\n",
       "      <th></th>\n",
       "      <th>AmazingTalker</th>\n",
       "      <th>AmazingTalker Show</th>\n",
       "    </tr>\n",
       "  </thead>\n",
       "  <tbody>\n",
       "    <tr>\n",
       "      <th>count</th>\n",
       "      <td>1356</td>\n",
       "      <td>239</td>\n",
       "    </tr>\n",
       "    <tr>\n",
       "      <th>mean</th>\n",
       "      <td>2</td>\n",
       "      <td>5</td>\n",
       "    </tr>\n",
       "    <tr>\n",
       "      <th>std</th>\n",
       "      <td>11</td>\n",
       "      <td>7</td>\n",
       "    </tr>\n",
       "    <tr>\n",
       "      <th>min</th>\n",
       "      <td>0</td>\n",
       "      <td>0</td>\n",
       "    </tr>\n",
       "    <tr>\n",
       "      <th>25%</th>\n",
       "      <td>0</td>\n",
       "      <td>3</td>\n",
       "    </tr>\n",
       "    <tr>\n",
       "      <th>50%</th>\n",
       "      <td>0</td>\n",
       "      <td>4</td>\n",
       "    </tr>\n",
       "    <tr>\n",
       "      <th>75%</th>\n",
       "      <td>1</td>\n",
       "      <td>6</td>\n",
       "    </tr>\n",
       "    <tr>\n",
       "      <th>max</th>\n",
       "      <td>226</td>\n",
       "      <td>98</td>\n",
       "    </tr>\n",
       "  </tbody>\n",
       "</table>\n",
       "</div>"
      ],
      "text/plain": [
       "       AmazingTalker  AmazingTalker Show\n",
       "count           1356                 239\n",
       "mean               2                   5\n",
       "std               11                   7\n",
       "min                0                   0\n",
       "25%                0                   3\n",
       "50%                0                   4\n",
       "75%                1                   6\n",
       "max              226                  98"
      ]
     },
     "execution_count": 28,
     "metadata": {},
     "output_type": "execute_result"
    }
   ],
   "source": [
    "# show statistics for video publishing frequency\n",
    "pd.concat(\n",
    "    [pf1.describe(), pf2.describe()],\n",
    "    keys=['AmazingTalker', 'AmazingTalker Show'],\n",
    "    axis=1\n",
    ")"
   ]
  },
  {
   "cell_type": "code",
   "execution_count": 29,
   "id": "7cfd3f58-7373-4ca0-be40-10f04b75f4eb",
   "metadata": {},
   "outputs": [
    {
     "data": {
      "image/png": "[encoded data removed]",
      "text/plain": [
       "<Figure size 1000x600 with 2 Axes>"
      ]
     },
     "metadata": {},
     "output_type": "display_data"
    }
   ],
   "source": [
    "fig, ax = plt.subplots(1, 2, figsize=(10, 6))\n",
    "\n",
    "ax1 = ax[0]\n",
    "ax2 = ax[1]\n",
    "\n",
    "pf1.plot(kind='box', ax=ax1)\n",
    "pf2.plot(kind='box', ax=ax2)\n",
    "\n",
    "ax1.set_title('Gap Between Uploads (AmazingTalker)')\n",
    "ax2.set_title('Gap Between Uploads (AmazingTalker Show)')\n",
    "\n",
    "plt.tight_layout()"
   ]
  },
  {
   "cell_type": "markdown",
   "id": "ff27abd3-7700-44de-a52c-6fa22065c4cb",
   "metadata": {},
   "source": [
    "_The AmazingTalker Show channel exhibits a more regular video publishing pattern, with an average of 5 days between uploads and only 3 outliers in the box plot. In contrast, the AmazingTalker channel has a shorter average of 1 day between uploads but features numerous outliers, with a maximum gap of 226 days between uploads._"
   ]
  },
  {
   "cell_type": "markdown",
   "id": "83174909-854b-49f3-88f9-eb2773cc1bfa",
   "metadata": {},
   "source": [
    "### 2.3. Most common publishing days of week"
   ]
  },
  {
   "cell_type": "code",
   "execution_count": 30,
   "id": "4f24aaf4-c466-402d-84db-19f37b54a2fe",
   "metadata": {},
   "outputs": [
    {
     "data": {
      "text/plain": [
       "Published At  Published At\n",
       "1             Monday          141\n",
       "2             Tuesday         165\n",
       "3             Wednesday       165\n",
       "4             Thursday        233\n",
       "5             Friday          402\n",
       "6             Saturday        146\n",
       "7             Sunday          105\n",
       "dtype: int64"
      ]
     },
     "execution_count": 30,
     "metadata": {},
     "output_type": "execute_result"
    }
   ],
   "source": [
    "df1.groupby([df1['Published At'].dt.dayofweek + 1, df1['Published At'].dt.day_name()]).size()"
   ]
  },
  {
   "cell_type": "code",
   "execution_count": 31,
   "id": "91f325cd-d509-463c-8ff5-8f906e572c11",
   "metadata": {},
   "outputs": [
    {
     "data": {
      "text/plain": [
       "<matplotlib.legend.Legend at 0x19a270eb080>"
      ]
     },
     "execution_count": 31,
     "metadata": {},
     "output_type": "execute_result"
    },
    {
     "data": {
      "image/png": "[encoded data removed]",
      "text/plain": [
       "<Figure size 640x480 with 1 Axes>"
      ]
     },
     "metadata": {},
     "output_type": "display_data"
    }
   ],
   "source": [
    "colors = ['#f94144', '#f3722c', '#f8961e', '#f9c74f', '#90be6d', '#43aa8b', '#577590']\n",
    "\n",
    "fig, ax = plt.subplots()\n",
    "\n",
    "df1.groupby([df1['Published At'].dt.dayofweek + 1, df1['Published At'].dt.day_name()]).size().plot(\n",
    "    kind='pie', colors=colors, labels=None, startangle=90, counterclock=False, autopct='%1.0f%%')\n",
    "\n",
    "ax.set_title('Video Publishing Days (AmazingTalker)')\n",
    "plt.legend(['Monday', 'Tuesday', 'Wednesday', 'Thursday', 'Friday', 'Saturday', 'Sunday'], bbox_to_anchor=(1.3, 1.0))"
   ]
  },
  {
   "cell_type": "markdown",
   "id": "c28bd257-fa65-4937-bb4c-e5271aef03bc",
   "metadata": {},
   "source": [
    "_Friday is the most common publishing day for the AmazingTalker channel, with approximately 30 percent of all videos uploaded on this day, followed by Thursday, which accounts for around 17 percent._"
   ]
  },
  {
   "cell_type": "code",
   "execution_count": 32,
   "id": "be650595-87af-41c9-b2dc-9eb1c1cb0192",
   "metadata": {},
   "outputs": [
    {
     "data": {
      "text/plain": [
       "Published At  Published At\n",
       "1             Monday           14\n",
       "2             Tuesday           6\n",
       "3             Wednesday        47\n",
       "4             Thursday         24\n",
       "5             Friday           28\n",
       "6             Saturday          8\n",
       "7             Sunday          113\n",
       "dtype: int64"
      ]
     },
     "execution_count": 32,
     "metadata": {},
     "output_type": "execute_result"
    }
   ],
   "source": [
    "df2.groupby([df2['Published At'].dt.dayofweek + 1, df2['Published At'].dt.day_name()]).size()"
   ]
  },
  {
   "cell_type": "code",
   "execution_count": 33,
   "id": "8f743f51-1c10-4850-8c3f-03d772f6b8a1",
   "metadata": {},
   "outputs": [
    {
     "data": {
      "text/plain": [
       "<matplotlib.legend.Legend at 0x19a26b6f320>"
      ]
     },
     "execution_count": 33,
     "metadata": {},
     "output_type": "execute_result"
    },
    {
     "data": {
      "image/png": "[encoded data removed]",
      "text/plain": [
       "<Figure size 640x480 with 1 Axes>"
      ]
     },
     "metadata": {},
     "output_type": "display_data"
    }
   ],
   "source": [
    "fig, ax = plt.subplots()\n",
    "\n",
    "df2.groupby([df2['Published At'].dt.dayofweek + 1, df2['Published At'].dt.day_name()]).size().plot(\n",
    "    kind='pie', colors=colors, labels=None, startangle=90, counterclock=False, autopct='%1.0f%%')\n",
    "\n",
    "ax.set_title('Video Publishing Days (AmazingTalker Show)')\n",
    "plt.legend(['Monday', 'Tuesday', 'Wednesday', 'Thursday', 'Friday', 'Saturday', 'Sunday'], bbox_to_anchor=(1.3, 1.0))"
   ]
  },
  {
   "cell_type": "markdown",
   "id": "f95620f9-9def-4321-88e6-b01c69d9a3da",
   "metadata": {},
   "source": [
    "_Sunday is the most common publishing day for the AmazingTalker Show channel, with approximately 47 percent of all videos uploaded on this day, followed by Wednesday, which accounts for around 20 percent._"
   ]
  },
  {
   "cell_type": "markdown",
   "id": "7d22b76f-ef49-43eb-b36c-117a081e4b29",
   "metadata": {},
   "source": [
    "### 2.4. Most common publishing times"
   ]
  },
  {
   "cell_type": "code",
   "execution_count": 34,
   "id": "e829293b-2a37-41d6-8faf-0496b1e870ab",
   "metadata": {},
   "outputs": [
    {
     "data": {
      "text/html": [
       "<div>\n",
       "<style scoped>\n",
       "    .dataframe tbody tr th:only-of-type {\n",
       "        vertical-align: middle;\n",
       "    }\n",
       "\n",
       "    .dataframe tbody tr th {\n",
       "        vertical-align: top;\n",
       "    }\n",
       "\n",
       "    .dataframe thead th {\n",
       "        text-align: right;\n",
       "    }\n",
       "</style>\n",
       "<table border=\"1\" class=\"dataframe\">\n",
       "  <thead>\n",
       "    <tr style=\"text-align: right;\">\n",
       "      <th></th>\n",
       "      <th>Count</th>\n",
       "      <th>%</th>\n",
       "    </tr>\n",
       "    <tr>\n",
       "      <th>Published At</th>\n",
       "      <th></th>\n",
       "      <th></th>\n",
       "    </tr>\n",
       "  </thead>\n",
       "  <tbody>\n",
       "    <tr>\n",
       "      <th>0</th>\n",
       "      <td>24</td>\n",
       "      <td>1.77%</td>\n",
       "    </tr>\n",
       "    <tr>\n",
       "      <th>1</th>\n",
       "      <td>9</td>\n",
       "      <td>0.66%</td>\n",
       "    </tr>\n",
       "    <tr>\n",
       "      <th>2</th>\n",
       "      <td>4</td>\n",
       "      <td>0.29%</td>\n",
       "    </tr>\n",
       "    <tr>\n",
       "      <th>3</th>\n",
       "      <td>1</td>\n",
       "      <td>0.07%</td>\n",
       "    </tr>\n",
       "    <tr>\n",
       "      <th>4</th>\n",
       "      <td>1</td>\n",
       "      <td>0.07%</td>\n",
       "    </tr>\n",
       "    <tr>\n",
       "      <th>9</th>\n",
       "      <td>2</td>\n",
       "      <td>0.15%</td>\n",
       "    </tr>\n",
       "    <tr>\n",
       "      <th>10</th>\n",
       "      <td>11</td>\n",
       "      <td>0.81%</td>\n",
       "    </tr>\n",
       "    <tr>\n",
       "      <th>11</th>\n",
       "      <td>16</td>\n",
       "      <td>1.18%</td>\n",
       "    </tr>\n",
       "    <tr>\n",
       "      <th>12</th>\n",
       "      <td>18</td>\n",
       "      <td>1.33%</td>\n",
       "    </tr>\n",
       "    <tr>\n",
       "      <th>13</th>\n",
       "      <td>23</td>\n",
       "      <td>1.69%</td>\n",
       "    </tr>\n",
       "    <tr>\n",
       "      <th>14</th>\n",
       "      <td>31</td>\n",
       "      <td>2.28%</td>\n",
       "    </tr>\n",
       "    <tr>\n",
       "      <th>15</th>\n",
       "      <td>50</td>\n",
       "      <td>3.68%</td>\n",
       "    </tr>\n",
       "    <tr>\n",
       "      <th>16</th>\n",
       "      <td>57</td>\n",
       "      <td>4.20%</td>\n",
       "    </tr>\n",
       "    <tr>\n",
       "      <th>17</th>\n",
       "      <td>120</td>\n",
       "      <td>8.84%</td>\n",
       "    </tr>\n",
       "    <tr>\n",
       "      <th>18</th>\n",
       "      <td>252</td>\n",
       "      <td>18.57%</td>\n",
       "    </tr>\n",
       "    <tr>\n",
       "      <th>19</th>\n",
       "      <td>243</td>\n",
       "      <td>17.91%</td>\n",
       "    </tr>\n",
       "    <tr>\n",
       "      <th>20</th>\n",
       "      <td>352</td>\n",
       "      <td>25.94%</td>\n",
       "    </tr>\n",
       "    <tr>\n",
       "      <th>21</th>\n",
       "      <td>77</td>\n",
       "      <td>5.67%</td>\n",
       "    </tr>\n",
       "    <tr>\n",
       "      <th>22</th>\n",
       "      <td>45</td>\n",
       "      <td>3.32%</td>\n",
       "    </tr>\n",
       "    <tr>\n",
       "      <th>23</th>\n",
       "      <td>21</td>\n",
       "      <td>1.55%</td>\n",
       "    </tr>\n",
       "  </tbody>\n",
       "</table>\n",
       "</div>"
      ],
      "text/plain": [
       "              Count       %\n",
       "Published At               \n",
       "0                24   1.77%\n",
       "1                 9   0.66%\n",
       "2                 4   0.29%\n",
       "3                 1   0.07%\n",
       "4                 1   0.07%\n",
       "9                 2   0.15%\n",
       "10               11   0.81%\n",
       "11               16   1.18%\n",
       "12               18   1.33%\n",
       "13               23   1.69%\n",
       "14               31   2.28%\n",
       "15               50   3.68%\n",
       "16               57   4.20%\n",
       "17              120   8.84%\n",
       "18              252  18.57%\n",
       "19              243  17.91%\n",
       "20              352  25.94%\n",
       "21               77   5.67%\n",
       "22               45   3.32%\n",
       "23               21   1.55%"
      ]
     },
     "execution_count": 34,
     "metadata": {},
     "output_type": "execute_result"
    }
   ],
   "source": [
    "pt1 = df1.groupby(df1['Published At'].dt.hour).size().reset_index(name='Count').set_index('Published At')\n",
    "pt1['%'] = (pt1['Count'] / pt1['Count'].sum()).map('{:.2%}'.format)\n",
    "pt1"
   ]
  },
  {
   "cell_type": "markdown",
   "id": "c75b9344-557b-486f-985b-d745a55f9ff7",
   "metadata": {},
   "source": [
    "_The most common publishing time for the AmazingTalker channel is 8 PM Taipei time, with over 70% of all videos uploaded between 5:00 PM and 9:00 PM._"
   ]
  },
  {
   "cell_type": "code",
   "execution_count": 35,
   "id": "173b0fab-f1b3-4c80-b5e1-380c579c5814",
   "metadata": {},
   "outputs": [
    {
     "data": {
      "text/html": [
       "<div>\n",
       "<style scoped>\n",
       "    .dataframe tbody tr th:only-of-type {\n",
       "        vertical-align: middle;\n",
       "    }\n",
       "\n",
       "    .dataframe tbody tr th {\n",
       "        vertical-align: top;\n",
       "    }\n",
       "\n",
       "    .dataframe thead th {\n",
       "        text-align: right;\n",
       "    }\n",
       "</style>\n",
       "<table border=\"1\" class=\"dataframe\">\n",
       "  <thead>\n",
       "    <tr style=\"text-align: right;\">\n",
       "      <th></th>\n",
       "      <th>Count</th>\n",
       "      <th>%</th>\n",
       "    </tr>\n",
       "    <tr>\n",
       "      <th>Published At</th>\n",
       "      <th></th>\n",
       "      <th></th>\n",
       "    </tr>\n",
       "  </thead>\n",
       "  <tbody>\n",
       "    <tr>\n",
       "      <th>0</th>\n",
       "      <td>2</td>\n",
       "      <td>0.83%</td>\n",
       "    </tr>\n",
       "    <tr>\n",
       "      <th>14</th>\n",
       "      <td>1</td>\n",
       "      <td>0.42%</td>\n",
       "    </tr>\n",
       "    <tr>\n",
       "      <th>17</th>\n",
       "      <td>2</td>\n",
       "      <td>0.83%</td>\n",
       "    </tr>\n",
       "    <tr>\n",
       "      <th>18</th>\n",
       "      <td>11</td>\n",
       "      <td>4.58%</td>\n",
       "    </tr>\n",
       "    <tr>\n",
       "      <th>19</th>\n",
       "      <td>173</td>\n",
       "      <td>72.08%</td>\n",
       "    </tr>\n",
       "    <tr>\n",
       "      <th>20</th>\n",
       "      <td>14</td>\n",
       "      <td>5.83%</td>\n",
       "    </tr>\n",
       "    <tr>\n",
       "      <th>21</th>\n",
       "      <td>23</td>\n",
       "      <td>9.58%</td>\n",
       "    </tr>\n",
       "    <tr>\n",
       "      <th>22</th>\n",
       "      <td>11</td>\n",
       "      <td>4.58%</td>\n",
       "    </tr>\n",
       "    <tr>\n",
       "      <th>23</th>\n",
       "      <td>3</td>\n",
       "      <td>1.25%</td>\n",
       "    </tr>\n",
       "  </tbody>\n",
       "</table>\n",
       "</div>"
      ],
      "text/plain": [
       "              Count       %\n",
       "Published At               \n",
       "0                 2   0.83%\n",
       "14                1   0.42%\n",
       "17                2   0.83%\n",
       "18               11   4.58%\n",
       "19              173  72.08%\n",
       "20               14   5.83%\n",
       "21               23   9.58%\n",
       "22               11   4.58%\n",
       "23                3   1.25%"
      ]
     },
     "execution_count": 35,
     "metadata": {},
     "output_type": "execute_result"
    }
   ],
   "source": [
    "pt2 = df2.groupby(df2['Published At'].dt.hour).size().reset_index(name='Count').set_index('Published At')\n",
    "pt2['%'] = (pt2['Count'] / pt2['Count'].sum()).map('{:.2%}'.format)\n",
    "pt2"
   ]
  },
  {
   "cell_type": "markdown",
   "id": "7c236837-e3ea-407e-8ed9-aad6bc85f144",
   "metadata": {},
   "source": [
    "_Approximately 72% of all videos on the AmazingTalker Show channel were published between 7:00 PM and 8:00 PM Taipei time._"
   ]
  }
 ],
 "metadata": {
  "kernelspec": {
   "display_name": "Python 3 (ipykernel)",
   "language": "python",
   "name": "python3"
  },
  "language_info": {
   "codemirror_mode": {
    "name": "ipython",
    "version": 3
   },
   "file_extension": ".py",
   "mimetype": "text/x-python",
   "name": "python",
   "nbconvert_exporter": "python",
   "pygments_lexer": "ipython3",
   "version": "3.12.3"
  }
 },
 "nbformat": 4,
 "nbformat_minor": 5
}
